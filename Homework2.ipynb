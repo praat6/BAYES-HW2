{
 "cells": [
  {
   "cell_type": "markdown",
   "metadata": {},
   "source": [
    "# Homework - 02"
   ]
  },
  {
   "cell_type": "code",
   "execution_count": 3,
   "metadata": {},
   "outputs": [
    {
     "name": "stderr",
     "output_type": "stream",
     "text": [
      "Loading required package: MASS\n",
      "\n",
      "Attaching package: 'mcsm'\n",
      "\n",
      "The following object is masked from 'package:extraDistr':\n",
      "\n",
      "    rdirichlet\n",
      "\n"
     ]
    }
   ],
   "source": [
    "library(\"ISLR\")\n",
    "library(\"rjags\")\n",
    "library(\"R2jags\")\n",
    "library(\"extraDistr\")\n",
    "library(\"mcsm\")\n",
    "library(\"lattice\")"
   ]
  },
  {
   "cell_type": "markdown",
   "metadata": {},
   "source": [
    "### Exercise 1\n",
    "\n",
    "Suppose $y$ has a binomial distribution with parameters $n$ and $p$, and we are interested in the log-odds value $\\theta = \\log \\frac{p}{(1 − p)}$. Our prior for $\\theta$ is that $\\theta ∼ N(\\mu, \\sigma)$. It follows that the posterior density of $\\theta$ is given, up to a proportionality constant, by\n",
    "\n",
    "$$ g(\\theta|y) \\propto \\frac{exp(y\\theta)}{(1+exp(\\theta)^n)} exp\\left( - \\frac{(\\theta - \\mu)^2}{2\\sigma^2} \\right) $$\n",
    "\n",
    "More concretely, suppose we are interested in learning about the probability that a special coin lands heads when tossed. A priori we believe that the coin is fair, so we assign $\\theta$ a $N(0, 0.25)$ prior. We toss the coin $n = 5$ times and obtain $y = 5$ heads.\n",
    "\n",
    "#### (1) Using a normal approximation to the posterior density, compute the probability that the coin is biased toward heads (i.e., that $\\theta$ is positive).\n",
    "\n",
    "The objective is to compute a normal distribution such that:\n",
    "\n",
    "$$ g(\\theta|y) \\propto N(\\theta_0, (I(\\theta_0))^{-1}) $$\n",
    "\n",
    "Where $\\theta_0$ is the $\\theta$ such that the first derivative of the log target function is zero. And $I(\\theta_0)$ is the second derivative of the log target function.\n",
    "\n",
    "In order to compute it we first have to look at the first and second derivatives of the log posterior function ($g(\\theta|y)$):\n",
    "\n",
    "$$ q(\\theta)=\\log(g(\\theta|y)) = y\\theta - n\\cdot \\log(1+e^\\theta) - \\frac{(\\theta - \\mu)^2}{2\\sigma^2} $$\n",
    "\n",
    "$$ q'(\\theta)= \\frac{dq}{d\\theta} = y-\\frac{n\\cdot e^\\theta}{1+e^\\theta} - \\frac{\\theta - \\mu}{\\sigma^2} $$\n",
    "\n",
    "$$q''(\\theta)=\\frac{d^2 q}{d\\theta^2}=-\\frac{n·e^\\theta(1+e^\\theta)-n·e^{2\\theta}}{(1+e^\\theta)^2}-\\frac{1}{\\sigma^2} = \\frac{-n·e^\\theta}{(1+e^\\theta)^2}-\\frac{1}{\\sigma^2}$$\n",
    "\n",
    "Now we can compute $\\theta_0$ as:\n",
    "\n",
    "$$ q'(\\theta) = 0 \\rightarrow \\theta_0 = 0.4783 $$\n",
    "\n",
    "And also $I(\\theta_0)$ as:\n",
    "\n",
    "$$ q''(\\theta_0) = -5.18115 \\rightarrow I(\\theta_0)^{-1} = 0.193 $$\n",
    "\n",
    "Now we can define the normal approximation as:\n",
    "\n",
    "$$ N(4.783, 0.193) $$\n",
    "\n",
    "Which we will compute in the following code."
   ]
  },
  {
   "cell_type": "code",
   "execution_count": 4,
   "metadata": {},
   "outputs": [
    {
     "data": {
      "text/html": [
       "0.478314184523306"
      ],
      "text/latex": [
       "0.478314184523306"
      ],
      "text/markdown": [
       "0.478314184523306"
      ],
      "text/plain": [
       "[1] 0.4783142"
      ]
     },
     "metadata": {},
     "output_type": "display_data"
    },
    {
     "data": {
      "text/html": [
       "0.193007521923129"
      ],
      "text/latex": [
       "0.193007521923129"
      ],
      "text/markdown": [
       "0.193007521923129"
      ],
      "text/plain": [
       "[1] 0.1930075"
      ]
     },
     "metadata": {},
     "output_type": "display_data"
    }
   ],
   "source": [
    "mean <- 0\n",
    "var <- 0.25\n",
    "sd <- sqrt(var)\n",
    "n <- 5\n",
    "y <-5\n",
    "\n",
    "posterior <- function(theta){exp(y*theta)*exp(-((theta-mean)^2)/(2*(sd^2)))/(1+exp(theta))^n}\n",
    "\n",
    "dq <- function(theta){y-(n*exp(theta)/(1+exp(theta)))-(theta-mean)/(sd^2)}\n",
    "approx.mean <- uniroot(dq,c(-2,2))$root\n",
    "approx.mean\n",
    "\n",
    "ddq <- (-n*(exp(approx.mean))/(1+exp(approx.mean))^2)-1/sd^2\n",
    "approx.variance <- 1/abs(ddq) \n",
    "approx.variance\n",
    "approx.sd <- sqrt(approx.variance)"
   ]
  },
  {
   "cell_type": "markdown",
   "metadata": {},
   "source": [
    "Let's now plot the posterior and the resulting approximation function."
   ]
  },
  {
   "cell_type": "code",
   "execution_count": 7,
   "metadata": {},
   "outputs": [
    {
     "data": {
      "image/png": "[encoded data removed]",
      "text/plain": [
       "Plot with title \"Posterior pdf and Normal approximation\""
      ]
     },
     "metadata": {},
     "output_type": "display_data"
    }
   ],
   "source": [
    "u <- seq(-3,3,0.01)\n",
    "plot(u,posterior(u),\"l\",lwd=2,col=\"blue\",main=\"Posterior pdf and Normal approximation\",ylim=c(0,1))\n",
    "lines(u,dnorm(u,mean=approx.mean,sd=approx.sd),col=\"red\",lwd =2)\n",
    "legend(\"topright\",legend=c(\"Posterior pdf\",\"Normal approx.\"),lwd=2,col=c(\"blue\",\"red\"))"
   ]
  },
  {
   "cell_type": "markdown",
   "metadata": {},
   "source": [
    "As it can be seen, the two functions are not in the same scale, in order to solve this we can normalize the posterior function in the following way:"
   ]
  },
  {
   "cell_type": "code",
   "execution_count": 8,
   "metadata": {},
   "outputs": [
    {
     "data": {
      "image/png": "[encoded data removed]",
      "text/plain": [
       "Plot with title \"Normalized posterior pdf and Normal approximation\""
      ]
     },
     "metadata": {},
     "output_type": "display_data"
    }
   ],
   "source": [
    "norm <- integrate(posterior,-3,3)$value\n",
    "posterior.norm <- function(theta){posterior(theta)/norm}\n",
    "\n",
    "u <- seq(-3,3,0.01)\n",
    "plot(u,posterior.norm(u),\"l\",lwd=2.5,col=\"blue\",main=\"Normalized posterior pdf and Normal approximation\",ylim=c(0,1))\n",
    "lines(u,dnorm(u,mean=approx.mean,sd=approx.sd),col=\"red\",lwd=1.5)\n",
    "legend(\"topright\",legend=c(\"Normalized post. pdf\",\"Normal approx.\"),lwd=1.5,col=c(\"blue\",\"red\"))"
   ]
  },
  {
   "cell_type": "markdown",
   "metadata": {},
   "source": [
    "Let's check now the probability that the coin toss heads and see if it is biased or not. We will look at the integrated probability from $-\\inf$ to 0, if the value is bigger that $0.5$ means the probability is biased as we consider positive probabilities as heads. "
   ]
  },
  {
   "cell_type": "code",
   "execution_count": 9,
   "metadata": {},
   "outputs": [
    {
     "data": {
      "text/html": [
       "0.861866807182023"
      ],
      "text/latex": [
       "0.861866807182023"
      ],
      "text/markdown": [
       "0.861866807182023"
      ],
      "text/plain": [
       "[1] 0.8618668"
      ]
     },
     "metadata": {},
     "output_type": "display_data"
    }
   ],
   "source": [
    "prob.tails <- pnorm(0,approx.mean,approx.sd)\n",
    "prob.heads <- 1 - prob.tails\n",
    "prob.heads"
   ]
  },
  {
   "cell_type": "markdown",
   "metadata": {},
   "source": [
    "As the probability of heads is far bigger than $0.5$, we can conclude that the probability of the coin is biased towards heads. In other words, if this probability was $0.5$, it would mean that half of the distribution is before $0$. As a result, the probability of $\\theta_0$ being negative would be the same as the probability that $\\theta_0$ takes positive values, which is not the case."
   ]
  },
  {
   "cell_type": "markdown",
   "metadata": {},
   "source": [
    "#### (2) Using the prior density as a proposal density, design a rejection algorithm for sampling from the posterior distribution. Using simulated draws from your algorithm, approximate the probability that the coin is biased toward heads.\n",
    "\n",
    "Following the Rejection sampling algorithm, we are given the posterior $g(\\theta|y)$ as target distribution we are going to sample from, and the prior density function $p(\\theta)$ which will be $\\theta ∼ N(0, 0.25)$.\n",
    "\n",
    "First we need to determine a constant $c$ such that:\n",
    "\n",
    "$$ g(\\theta | y) \\leq c \\cdot p(\\theta) $$\n"
   ]
  },
  {
   "cell_type": "code",
   "execution_count": 10,
   "metadata": {},
   "outputs": [
    {
     "data": {
      "text/html": [
       "0.98300074079988"
      ],
      "text/latex": [
       "0.98300074079988"
      ],
      "text/markdown": [
       "0.98300074079988"
      ],
      "text/plain": [
       "[1] 0.9830007"
      ]
     },
     "metadata": {},
     "output_type": "display_data"
    }
   ],
   "source": [
    "prior <- function(theta){dnorm(theta, mean, sd)}\n",
    "c.values <- function(theta){posterior(theta)/prior(theta)}\n",
    "\n",
    "N <- 100000\n",
    "u <- seq(-3,3,length=N)\n",
    "c <- max(c.values(u))\n",
    "c"
   ]
  },
  {
   "cell_type": "markdown",
   "metadata": {},
   "source": [
    "What we mainly do for rejection sampling is randomly sample from a uniform disribution on each axis. Then we look at whether or not the point created for these sampled pairs falls under our target posterior or not. If it is under we accept the sample, otherwise we reject it.\n",
    "\n",
    "In order to do so, first we need to define the two samples: $u$ from our prior $p(\\theta)$ and $v$ following a uniform distribution $Unif(0,1)$. Then, in order to check if the uniform $v$ sample is under our posterior we need to make sure that:\n",
    "\n",
    "$$ v < \\frac{g(\\theta)}{c\\cdot p(\\theta)} $$\n",
    "\n",
    "Then only those samples from the uniform distribution that accomplish the previous statement will be kept, the other ones will be rejected."
   ]
  },
  {
   "cell_type": "code",
   "execution_count": 11,
   "metadata": {},
   "outputs": [
    {
     "data": {
      "image/png": "[encoded data removed]",
      "text/plain": [
       "Plot with title \"Accepted samples from Rejection sampling\""
      ]
     },
     "metadata": {},
     "output_type": "display_data"
    }
   ],
   "source": [
    "u.sample  <- rnorm(N, mean, sd)\n",
    "v.sample <- runif(N)\n",
    "\n",
    "accept <- posterior(u.sample)/(c*prior(u.sample))\n",
    "samples <- u.sample[v.sample<accept]\n",
    "\n",
    "library(MASS)\n",
    "hist(samples, main=\"Accepted samples from Rejection sampling\",nclass=100, freq=FALSE)\n",
    "lines(u,posterior.norm(u), col=\"red\")"
   ]
  },
  {
   "cell_type": "markdown",
   "metadata": {},
   "source": [
    "Now that we have the approximation of the posterior density function, the probability that the coin is biased towards heads can be computed as the sum of those samples that have a positive value (are evaluated as heads)."
   ]
  },
  {
   "cell_type": "code",
   "execution_count": 12,
   "metadata": {},
   "outputs": [
    {
     "data": {
      "text/html": [
       "0.869053301511535"
      ],
      "text/latex": [
       "0.869053301511535"
      ],
      "text/markdown": [
       "0.869053301511535"
      ],
      "text/plain": [
       "[1] 0.8690533"
      ]
     },
     "metadata": {},
     "output_type": "display_data"
    }
   ],
   "source": [
    "prob.heads <- sum(samples > 0)/length(samples)\n",
    "prob.heads"
   ]
  },
  {
   "cell_type": "markdown",
   "metadata": {},
   "source": [
    "As the computed value for the probability of heads is clearly above $0.5$ one can say that the coin is biased towards heads."
   ]
  },
  {
   "cell_type": "markdown",
   "metadata": {},
   "source": [
    "#### (3) Using the prior density as a proposal density, simulate values from the posterior distribution using the SIR algorithm. Approximate the probability that the coin is biased toward heads.\n",
    "\n",
    "The main idea behind the SIR algorithm is to take a simulated sample of draws from one distribution $p(\\theta)$ (our prior), and using these draws to produce a sample from a different distribution $g(\\theta)$ (our posterior).\n",
    "\n",
    "In order to implement the algorithm, first we need to define the following function that will define the so called weights:\n",
    "\n",
    "$$ w(\\theta) = \\frac{g(\\theta)}{p(\\theta)} $$"
   ]
  },
  {
   "cell_type": "code",
   "execution_count": 13,
   "metadata": {},
   "outputs": [],
   "source": [
    "N<-10000\n",
    "\n",
    "prior.sample <- rnorm(N, mean , sd)\n",
    "weights.sum <- sum(posterior(prior.sample)/prior(prior.sample))\n",
    "weights <- posterior(prior.sample)/(prior(prior.sample)*weights.sum)"
   ]
  },
  {
   "cell_type": "markdown",
   "metadata": {},
   "source": [
    "Once we have the weights we must resample the prior $p$ distribution with the probabilities of each of the weights, calculated as follows:\n",
    "\n",
    "$$ prob_i = \\frac{w_i}{\\sum_{j=0}^n w_j} $$\n",
    "\n",
    "Where $0 \\leq i\\leq n$ and $n$ is the resampling size."
   ]
  },
  {
   "cell_type": "code",
   "execution_count": 14,
   "metadata": {},
   "outputs": [
    {
     "data": {
      "image/png": "[encoded data removed]",
      "text/plain": [
       "Plot with title \"Samples from SIR algorithm\""
      ]
     },
     "metadata": {},
     "output_type": "display_data"
    }
   ],
   "source": [
    "idx <- sample(1:N, size = N, prob = weights, replace = TRUE)\n",
    "post.sir <- prior.sample[idx]\n",
    "\n",
    "hist(post.sir, main=\"Samples from SIR algorithm\", nclass=100, freq=FALSE)\n",
    "lines(u,posterior.norm(u), col=\"red\")"
   ]
  },
  {
   "cell_type": "markdown",
   "metadata": {},
   "source": [
    "Now that we have found our posterior approximation using the SIR algorithm, we can compute the probability of heads by looking at those samples that account for a positive number (evaluated as heads):"
   ]
  },
  {
   "cell_type": "code",
   "execution_count": 15,
   "metadata": {},
   "outputs": [
    {
     "data": {
      "text/html": [
       "0.8621"
      ],
      "text/latex": [
       "0.8621"
      ],
      "text/markdown": [
       "0.8621"
      ],
      "text/plain": [
       "[1] 0.8621"
      ]
     },
     "metadata": {},
     "output_type": "display_data"
    }
   ],
   "source": [
    "prob.heads <- sum(post.sir > 0)/length(post.sir)\n",
    "prob.heads"
   ]
  },
  {
   "cell_type": "markdown",
   "metadata": {},
   "source": [
    "As the computed value for the probability of heads is clearly above $0.5$ one can say that again, the coin is biased towards heads."
   ]
  },
  {
   "cell_type": "markdown",
   "metadata": {},
   "source": [
    "### Exercise 2\n",
    "In 1986, the space shuttle Challenger exploded during takeoﬀ, killing the seven astronauts aboard. The explosion was the result of an O-ring failure, a splitting of a ring of rubber that seals the parts of the ship together. The accident was believed to have been caused by the unusually cold weather (31ºF or 0ºC) at the time of launch, as there is reason to believe that the O-ring failure probabilities increase as temperature decreases. Data on previous space shuttle launches and O-ring failures are given in the dataset challenger provided with the mcsm package.\n",
    "#### (1) Fit this dataset with classic-frequentist logistic regression using the classic MLE's for $\\alpha$ and $\\beta$, along with standard errors. Estimate the probabilities of failure at 60ºF, 50ºF and 40ºF.\n",
    "Let's read our _challenger_ data."
   ]
  },
  {
   "cell_type": "code",
   "execution_count": 16,
   "metadata": {},
   "outputs": [
    {
     "data": {
      "text/html": [
       "<table>\n",
       "<thead><tr><th scope=col>oring</th><th scope=col>temp</th></tr></thead>\n",
       "<tbody>\n",
       "\t<tr><td>1 </td><td>53</td></tr>\n",
       "\t<tr><td>1 </td><td>57</td></tr>\n",
       "\t<tr><td>1 </td><td>58</td></tr>\n",
       "</tbody>\n",
       "</table>\n"
      ],
      "text/latex": [
       "\\begin{tabular}{r|ll}\n",
       " oring & temp\\\\\n",
       "\\hline\n",
       "\t 1  & 53\\\\\n",
       "\t 1  & 57\\\\\n",
       "\t 1  & 58\\\\\n",
       "\\end{tabular}\n"
      ],
      "text/markdown": [
       "\n",
       "oring | temp | \n",
       "|---|---|---|\n",
       "| 1  | 53 | \n",
       "| 1  | 57 | \n",
       "| 1  | 58 | \n",
       "\n",
       "\n"
      ],
      "text/plain": [
       "  oring temp\n",
       "1 1     53  \n",
       "2 1     57  \n",
       "3 1     58  "
      ]
     },
     "metadata": {},
     "output_type": "display_data"
    }
   ],
   "source": [
    "data(\"challenger\")\n",
    "df <- challenger\n",
    "head(df,3)"
   ]
  },
  {
   "cell_type": "markdown",
   "metadata": {},
   "source": [
    "The first column is a dummy variable which takes value 1 if the experiment failed. The second column is the temperature at which the experiment was done. Let's fit the Logistic Regression of variable _temp_ upon whether the experiment was a failure or not (_O-ring_ variable)."
   ]
  },
  {
   "cell_type": "code",
   "execution_count": 17,
   "metadata": {},
   "outputs": [],
   "source": [
    "lr.model <- glm(oring ~ temp, data = challenger)"
   ]
  },
  {
   "cell_type": "markdown",
   "metadata": {},
   "source": [
    "Let's see the estimated paremeters $\\alpha$ and $\\beta$:"
   ]
  },
  {
   "cell_type": "code",
   "execution_count": 18,
   "metadata": {},
   "outputs": [
    {
     "data": {
      "text/plain": [
       "\n",
       "Call:\n",
       "glm(formula = oring ~ temp, data = challenger)\n",
       "\n",
       "Deviance Residuals: \n",
       "     Min        1Q    Median        3Q       Max  \n",
       "-0.43762  -0.30679  -0.06381   0.17452   0.89881  \n",
       "\n",
       "Coefficients:\n",
       "            Estimate Std. Error t value Pr(>|t|)   \n",
       "(Intercept)  2.90476    0.84208   3.450  0.00240 **\n",
       "temp        -0.03738    0.01205  -3.103  0.00538 **\n",
       "---\n",
       "Signif. codes:  0 '***' 0.001 '**' 0.01 '*' 0.05 '.' 0.1 ' ' 1\n",
       "\n",
       "(Dispersion parameter for gaussian family taken to be 0.1589796)\n",
       "\n",
       "    Null deviance: 4.8696  on 22  degrees of freedom\n",
       "Residual deviance: 3.3386  on 21  degrees of freedom\n",
       "AIC: 26.882\n",
       "\n",
       "Number of Fisher Scoring iterations: 2\n"
      ]
     },
     "metadata": {},
     "output_type": "display_data"
    }
   ],
   "source": [
    "summary(lr.model)"
   ]
  },
  {
   "cell_type": "markdown",
   "metadata": {},
   "source": [
    "According to this model, $\\alpha=2.90476$ and $\\beta=-0.03738$. Both parameters seem to be significant to the success or not of the take-off. Notice that both parameters are significant with a 99% of confidence because $\\text{Pr (> }\\mid t\\mid)<0.01$.\n",
    "\n",
    "To be able to perform some kind of predictions we need the following relationship:\n",
    "\n",
    "$$\n",
    "P(Y_i=1|x_i) \\equiv p(x_i) = \\text{Logistic} (\\alpha+\\beta x_i) = \\frac{\\text{exp}(\\alpha+\\beta x_i)}{1+\\text{exp}(\\alpha+\\beta x_i)}\n",
    "$$\n",
    "\n",
    "Since we want to predict the probability of failure given a temperature, let's see the same equation applied to our model for the 60ºF case (for the other temperatures the same apply)\n",
    "\n",
    "$$\n",
    "P(\\text{O'ring}=1\\text{ | temp}=60º\\text{F}) \\equiv p(60ºF) = \\text{Logistic} (\\hat{\\alpha}+\\hat{\\beta} x_i) = \\frac{\\text{exp}(\\hat{\\alpha}+\\hat{\\beta} x_i)}{1+\\text{exp}(\\hat{\\alpha}+\\hat{\\beta} x_i)}\n",
    "$$\n",
    "\n",
    "substituting $\\hat{\\alpha}$ and $\\hat{\\beta}$ for our results. Let's take both parameters and estimate this probability:"
   ]
  },
  {
   "cell_type": "code",
   "execution_count": 20,
   "metadata": {},
   "outputs": [
    {
     "data": {
      "text/html": [
       "<table>\n",
       "<thead><tr><th scope=col>temp</th><th scope=col>prob</th></tr></thead>\n",
       "<tbody>\n",
       "\t<tr><td>40ºF </td><td>0.716</td></tr>\n",
       "\t<tr><td>50ºF </td><td>0.684</td></tr>\n",
       "\t<tr><td>60ºF </td><td>0.676</td></tr>\n",
       "</tbody>\n",
       "</table>\n"
      ],
      "text/latex": [
       "\\begin{tabular}{r|ll}\n",
       " temp & prob\\\\\n",
       "\\hline\n",
       "\t 40ºF  & 0.716\\\\\n",
       "\t 50ºF  & 0.684\\\\\n",
       "\t 60ºF  & 0.676\\\\\n",
       "\\end{tabular}\n"
      ],
      "text/markdown": [
       "\n",
       "temp | prob | \n",
       "|---|---|---|\n",
       "| 40ºF  | 0.716 | \n",
       "| 50ºF  | 0.684 | \n",
       "| 60ºF  | 0.676 | \n",
       "\n",
       "\n"
      ],
      "text/plain": [
       "  temp prob \n",
       "1 40ºF 0.716\n",
       "2 50ºF 0.684\n",
       "3 60ºF 0.676"
      ]
     },
     "metadata": {},
     "output_type": "display_data"
    }
   ],
   "source": [
    "alpha = lr.model$coef[1]\n",
    "beta = lr.model$coef[2]\n",
    "\n",
    "pred = data.frame(temp = c(\"40ºF\", \"50ºF\", \"60ºF\"))\n",
    "for (i in seq_along(pred$temp)) {\n",
    "    p = exp(alpha+beta*df$temp[i])/(1+exp(alpha+beta*df$temp[i]))\n",
    "    pred[i,\"prob\"] = round(p[[1]],3)\n",
    "}\n",
    "\n",
    "pred"
   ]
  },
  {
   "cell_type": "markdown",
   "metadata": {},
   "source": [
    "According to the model fitted, the probability of a failure increases with lower temperatures. According to this frequentist approach, the hypothesis \"the space shuttle exploted because of the unusual cold wheather\" would be accepted.\n",
    "\n",
    "#### (2) Bayesian version: As suggested in Robert, Casella (2004), pag. 282, take a flat prior for $\\beta$ and, for $\\alpha$, consider it the logarithm of a new parameter:\n",
    "\n",
    "$$\\alpha = \\log(w),\\quad \\text{where } w \\sim \\text{Exp} (\\frac{1}{s}), \\quad s>0.$$"
   ]
  },
  {
   "cell_type": "code",
   "execution_count": 21,
   "metadata": {},
   "outputs": [],
   "source": [
    "prior.alpha <- function (s, alpha) {\n",
    "    h <- (1/s)*exp(alpha)*exp((-1/s)*exp(alpha))\n",
    "    return (h)\n",
    "}"
   ]
  },
  {
   "cell_type": "markdown",
   "metadata": {},
   "source": [
    "## lu que he fet d lex 2 acaba aquí!"
   ]
  },
  {
   "cell_type": "code",
   "execution_count": null,
   "metadata": {
    "collapsed": true
   },
   "outputs": [],
   "source": [
    "# theta' by one of the preceeding generation methods + reject/accept\n",
    "run.metropolis<-function(startvalue, iterations){\n",
    "    epsilon<-1.0e-8\n",
    "    chain<-rep(0,iterations+1)\n",
    "    chain[1]<-startvalue\n",
    "    for (i in 1:iterations){\n",
    "        candidate<-proposal(chain[i])\n",
    "        #print(sprintf(\"candidate = %f\",candidate))\n",
    "        pp<-posterior(chain[i])\n",
    "        #print(sprintf(\"pp = %f\",pp))\n",
    "        if(pp<epsilon)    # avoid division by 0\n",
    "            prob<-1\n",
    "        else\n",
    "            prob<-min(1,posterior(candidate)/pp) # prob of acceptance\n",
    "        #print(sprintf(\"prob = %f\",prob))\n",
    "        if(runif(1)<prob) # binary variable with probability prob\n",
    "            chain[i+1]<-candidate\n",
    "        else\n",
    "            chain[i+1]<-chain[i] # remain same position I was previously\n",
    "        }\n",
    "     return(chain)\n",
    "    }"
   ]
  },
  {
   "cell_type": "code",
   "execution_count": null,
   "metadata": {
    "collapsed": true
   },
   "outputs": [],
   "source": [
    "proposal<-proposal.1\n",
    "Chain.Length<-15000\n",
    "startvalue<-0.5   # initial theta value\n",
    "chain<-run.metropolis(startvalue,Chain.Length)\n",
    "burnIn<-4000\n",
    "chain1<-chain[(burnIn+1):length(chain)]"
   ]
  },
  {
   "cell_type": "markdown",
   "metadata": {},
   "source": [
    "### Exercise 3\n",
    "#### (1) Fit the following two classic, frequentist linear models. Describe the results, such as significance of predictors and overall quality of predictions.\n",
    "$$\\text{Credit.lm1 <- lm(Balance ~ Limit + Income, data=Credit)}$$\n",
    "$$\\text{Credit.lm1 <- lm(Balance ~ Student + Limit, data=Credit)}$$"
   ]
  },
  {
   "cell_type": "markdown",
   "metadata": {},
   "source": [
    "The aim here is to predict which customers will default on their credit card debt. We will use the variable `Balance` as a proxy to measure whether a customer will default or not. `Balance` is the average credit card balance in dollars.\n",
    "\n",
    "We will be regressing linear this variable `Balance` upon both (1)`Limit` and `Income` and (2) `Student` and `Limit`. Let's learn about this variables:\n",
    "- `Limit`: credit limit of the bank account (also in dollars).\n",
    "- `Income`: income in \\$10,000's (ten thousand's of dollars).\n",
    "- `Student`: A factor with levels No and Yes indicating whether the individual was a student or not.\n",
    "\n",
    "Let's read the data:"
   ]
  },
  {
   "cell_type": "code",
   "execution_count": 22,
   "metadata": {},
   "outputs": [],
   "source": [
    "data(\"Credit\")\n",
    "df <- Credit"
   ]
  },
  {
   "cell_type": "markdown",
   "metadata": {},
   "source": [
    "We fit both models as stated and analyze the results for both models:"
   ]
  },
  {
   "cell_type": "code",
   "execution_count": 23,
   "metadata": {},
   "outputs": [],
   "source": [
    "Credit.lm1 <- lm(Balance ~ Limit + Income, data = df)\n",
    "Credit.lm2 <-lm(Balance ~ Student + Limit, data = df)"
   ]
  },
  {
   "cell_type": "markdown",
   "metadata": {},
   "source": [
    "Therefore, what we are actually fitting is those models:\n",
    "$$\\text{Balance} = \\beta_0 + \\beta_1 \\text{Limit} + \\beta_2 \\text{Income} + u$$\n",
    "$$\\text{Balance} = \\beta_0 + \\beta_1 \\text{Student} + \\beta_2 \\text{Limit} + u$$\n",
    "\n",
    "Let's now look at which values for $\\beta_0$, $\\beta_1$ and $\\beta_2$ we have learned fitting the model:"
   ]
  },
  {
   "cell_type": "code",
   "execution_count": 24,
   "metadata": {},
   "outputs": [
    {
     "data": {
      "text/plain": [
       "\n",
       "Call:\n",
       "lm(formula = Balance ~ Limit + Income, data = df)\n",
       "\n",
       "Residuals:\n",
       "    Min      1Q  Median      3Q     Max \n",
       "-232.79 -115.45  -48.20   53.36  549.77 \n",
       "\n",
       "Coefficients:\n",
       "              Estimate Std. Error t value Pr(>|t|)    \n",
       "(Intercept) -385.17926   19.46480  -19.79   <2e-16 ***\n",
       "Limit          0.26432    0.00588   44.95   <2e-16 ***\n",
       "Income        -7.66332    0.38507  -19.90   <2e-16 ***\n",
       "---\n",
       "Signif. codes:  0 '***' 0.001 '**' 0.01 '*' 0.05 '.' 0.1 ' ' 1\n",
       "\n",
       "Residual standard error: 165.5 on 397 degrees of freedom\n",
       "Multiple R-squared:  0.8711,\tAdjusted R-squared:  0.8705 \n",
       "F-statistic:  1342 on 2 and 397 DF,  p-value: < 2.2e-16\n"
      ]
     },
     "metadata": {},
     "output_type": "display_data"
    }
   ],
   "source": [
    "summary(Credit.lm1)"
   ]
  },
  {
   "cell_type": "markdown",
   "metadata": {},
   "source": [
    "We can conclude several things from this summary. The first thing we have to look at is at our $R^2$. Recall that $R^2$ is a measure of explainability, that is, $1-\\frac{SSR}{SST}$ where:\n",
    "\n",
    "- $SSR$ stands for \"Sum Squares of the Residuals\" and is defined as $\\sum_{i=1}^n (y_i - \\hat{y}_i)^2$.\n",
    "- $SST$ stands for \"Sum Squares Total\" and is defined as  $\\sum_{i=1}^n (y_i - \\bar{y}_i)^2$.\n",
    "\n",
    "In other words, $R^2$ tells us about which percentage of data is explained by our model. Moreover, it can also be used as a measure of quality of our predictions. In our case, this number is 0.8711 over 1, which is high enough. Moreover, according to our model $\\beta_0$, $\\beta_1$ and $\\beta_2$ are significant with more than a 99% of confidence. We can see that by looking at the last column of this summary. These 3 stars near the three estimates $\\beta_0$, $\\beta_1$ and $\\beta_2$ mean that we are rejecting the null hypotheses\n",
    "\n",
    "$$H_0: \\beta_i = 0 \\text{ for } i = 0,1,2$$\n",
    "\n",
    "As a consequence, variables `Limit` and `Income` are significant when trying to explain if a person will default or not. Moreover, we could relate linearly both (1)`Balance` and `Limit` and (2)`Balance` and `Income` using the paramaters estimated $\\beta_1$ and $\\beta_2$ respectively.\n",
    "\n",
    "Let's now look at the second model:"
   ]
  },
  {
   "cell_type": "code",
   "execution_count": 25,
   "metadata": {},
   "outputs": [
    {
     "data": {
      "text/plain": [
       "\n",
       "Call:\n",
       "lm(formula = Balance ~ Student + Limit, data = df)\n",
       "\n",
       "Residuals:\n",
       "    Min      1Q  Median      3Q     Max \n",
       "-637.77 -116.90    6.04  130.92  434.24 \n",
       "\n",
       "Coefficients:\n",
       "              Estimate Std. Error t value Pr(>|t|)    \n",
       "(Intercept) -3.347e+02  2.307e+01  -14.51   <2e-16 ***\n",
       "StudentYes   4.044e+02  3.328e+01   12.15   <2e-16 ***\n",
       "Limit        1.720e-01  4.331e-03   39.70   <2e-16 ***\n",
       "---\n",
       "Signif. codes:  0 '***' 0.001 '**' 0.01 '*' 0.05 '.' 0.1 ' ' 1\n",
       "\n",
       "Residual standard error: 199.7 on 397 degrees of freedom\n",
       "Multiple R-squared:  0.8123,\tAdjusted R-squared:  0.8114 \n",
       "F-statistic: 859.2 on 2 and 397 DF,  p-value: < 2.2e-16\n"
      ]
     },
     "metadata": {},
     "output_type": "display_data"
    }
   ],
   "source": [
    "summary(Credit.lm2)"
   ]
  },
  {
   "cell_type": "markdown",
   "metadata": {},
   "source": [
    "Similar things happen here. The first remark is that $R^2$ is lower than in the first model ($R^2=0.8123$ here). For the other variables we can see that according to this model variables `StudentsYes` (dummy variable for students) and `Limit` also are significant when explaining `Balance` with a 99% of confidence.\n",
    "\n",
    "Let's now perform a re-assignment in order to work in the Bayesian paradigm. What we called $\\beta$ now will be $\\theta$. These parameters also follow a distribution, therefore, we will estimate a posterior distribution for each $\\theta$ present in each model.\n",
    "\n",
    "#### (2) Using JAGS prepare Bayesian versions for _Credit.lm1_ and _Credit.lm2_, with a discussion of the possible priors.\n",
    "To model a problem using Bayesian Statistics we need both a likelihood and a prior. Our likelihood corresponds to the distribution from which our dependent variable `Balance` could be drawn. Let's plot an histogram of `Balance` and see which likelihod we can consider:"
   ]
  },
  {
   "cell_type": "code",
   "execution_count": 26,
   "metadata": {},
   "outputs": [
    {
     "data": {
      "image/png": "[encoded data removed]",
      "text/plain": [
       "Plot with title \"Histogram of df$Balance\""
      ]
     },
     "metadata": {},
     "output_type": "display_data"
    }
   ],
   "source": [
    "hist(df$Balance)"
   ]
  },
  {
   "cell_type": "markdown",
   "metadata": {},
   "source": [
    "We have to think about which distribution would be able to generate our `Balance` variable. We may think, for instance, of a Possion or an exponential distribution. Even though it does not make much sense to treat this data as Gaussian, we will assume that `Balance` follows a Normal distribution for practical purposes (as discussed in class). For the dispersion parameter of the normal distribution, which we will call $\\tau$, we'll suppose that is defined as $\\tau = \\frac{1}{\\sigma^2}$. We will also estimate $\\sigma$ using JAGS.\n",
    "\n",
    "Let's perform a reassignement of the three parameters $\\beta$ (in the frecuentist approach):\n",
    "-  $\\beta_0 = \\theta_0  $\n",
    "-  $\\beta_1 = \\theta_1  $\n",
    "-  $\\beta_2 = \\theta_2  $\n",
    "\n",
    "For the parameters $\\theta$ we will consider two different priors:\n",
    "- Uniform prior (non-informative)\n",
    "- Normal prior\n",
    "\n",
    "Taking a non-informative prior would be like having no previous information about our parameters. For this case, we will just take a uniform distribution. \n",
    "\n",
    "The second prior we'll take is a normal one. A linear regression model like the one we used assumes that those parameters are normal distributed with mean $\\hat{\\theta}$ and standard deviation $\\hat{SE}$ (standing for standard error). Those parameters are given by the `R` summary of the regression. Therefore, it makes sense to use this knowledge as the prior knowledge.\n",
    "\n",
    "Let's run JAGS for the first model we fitted. Recall that we were fitting:\n",
    "\n",
    "$$\\text{Balance} = \\beta_0 + \\beta_1 \\text{Limit} + \\beta_2 \\text{Income} + u$$\n",
    "\n",
    "stored in `Credit.lm1`."
   ]
  },
  {
   "cell_type": "code",
   "execution_count": 27,
   "metadata": {},
   "outputs": [
    {
     "data": {
      "text/plain": [
       "\n",
       "Call:\n",
       "lm(formula = Balance ~ Limit + Income, data = df)\n",
       "\n",
       "Residuals:\n",
       "    Min      1Q  Median      3Q     Max \n",
       "-232.79 -115.45  -48.20   53.36  549.77 \n",
       "\n",
       "Coefficients:\n",
       "              Estimate Std. Error t value Pr(>|t|)    \n",
       "(Intercept) -385.17926   19.46480  -19.79   <2e-16 ***\n",
       "Limit          0.26432    0.00588   44.95   <2e-16 ***\n",
       "Income        -7.66332    0.38507  -19.90   <2e-16 ***\n",
       "---\n",
       "Signif. codes:  0 '***' 0.001 '**' 0.01 '*' 0.05 '.' 0.1 ' ' 1\n",
       "\n",
       "Residual standard error: 165.5 on 397 degrees of freedom\n",
       "Multiple R-squared:  0.8711,\tAdjusted R-squared:  0.8705 \n",
       "F-statistic:  1342 on 2 and 397 DF,  p-value: < 2.2e-16\n"
      ]
     },
     "metadata": {},
     "output_type": "display_data"
    }
   ],
   "source": [
    "s1 <- summary(Credit.lm1)\n",
    "s1"
   ]
  },
  {
   "cell_type": "markdown",
   "metadata": {},
   "source": [
    "Let's begin with the Non-Informative Prior (NIP) case (i.e. taking as prior distributions for our $\\theta$'s a $\\text{U}[0,1]$). Recall that, for JAGS, the likelihood distribution is defined observation by observation and dispersion measures are understood as precisions ($\\frac{1}{\\sigma}$). Additionally, notice we also take a NIP for $\\sigma$. $\\sigma \\sim \\text{U}[0,30]$"
   ]
  },
  {
   "cell_type": "code",
   "execution_count": 28,
   "metadata": {},
   "outputs": [],
   "source": [
    "N<-length(row.names(df))\n",
    "\n",
    "cat(\"model {for (i in 1:N){ \n",
    "                y[i] ~ dnorm(y.hat[i], tau)\n",
    "                y.hat[i] <- theta0 + theta1 * x1[i] + theta2 * x2[i] \n",
    "                }\n",
    "\n",
    "            theta0 ~ dunif(0,1) \n",
    "            theta1 ~ dunif(0,1) \n",
    "            theta2 ~ dunif(0,1) \n",
    "            tau <- pow(sigma, -2) \n",
    "            sigma ~ dunif(0,30)  \n",
    "            } \",file=\"ex3NIP.jag\")\n",
    "ex3.NIP <- list(\"x2\" = df$Income, \"x1\" = df$Limit, \"y\" = df$Balance, \"N\" = N)"
   ]
  },
  {
   "cell_type": "code",
   "execution_count": 29,
   "metadata": {},
   "outputs": [
    {
     "name": "stderr",
     "output_type": "stream",
     "text": [
      "module glm loaded\n"
     ]
    },
    {
     "name": "stdout",
     "output_type": "stream",
     "text": [
      "Compiling model graph\n",
      "   Resolving undeclared variables\n",
      "   Allocating nodes\n",
      "Graph information:\n",
      "   Observed stochastic nodes: 400\n",
      "   Unobserved stochastic nodes: 4\n",
      "   Total graph size: 2397\n",
      "\n",
      "Initializing model\n",
      "\n"
     ]
    }
   ],
   "source": [
    "ex3.NIP.jags<-jags(data=ex3.NIP, n.chains=3,\n",
    "        parameters.to.save=c(\"theta0\", \"theta1\", \"theta2\", \"sigma\"), \n",
    "        model.file=\"ex3NIP.jag\",n.iter=10000,n.burnin=2000)"
   ]
  },
  {
   "cell_type": "code",
   "execution_count": 30,
   "metadata": {},
   "outputs": [
    {
     "data": {},
     "metadata": {},
     "output_type": "display_data"
    },
    {
     "data": {
      "image/png": "[encoded data removed]",
      "text/plain": [
       "plot without title"
      ]
     },
     "metadata": {},
     "output_type": "display_data"
    }
   ],
   "source": [
    "ex3.NIP.mcmc<-as.mcmc(ex3.NIP.jags)\n",
    "xyplot(ex3.NIP.mcmc)"
   ]
  },
  {
   "cell_type": "markdown",
   "metadata": {},
   "source": [
    "Recall that when performing an MCMC procedure, the algorithm tries to stay at places where probability is higher. According to this and looking at the graph, we can see that for $\\theta_0$, $\\theta_2$ and $\\sigma$ priors were inadequate. Notice that, in the three cases, the traceplot seems to have been cut. For instance, for the $\\theta_0$ case, we see that MCMC tries to stay at places close to 0. However, we are not allowing the \"goat\" to explore negative numbers of the parameter space because we are limitting its support to take numbers from 0 to 1 by taking a $\\text{U}[0,1]$ (i.e. taking a NIP). The same happens for $\\theta_2$.\n",
    "\n",
    "Let us look at the summary of the posterior distribution of each parameter:"
   ]
  },
  {
   "cell_type": "code",
   "execution_count": 31,
   "metadata": {},
   "outputs": [
    {
     "data": {
      "text/plain": [
       "\n",
       "Iterations = 2001:9993\n",
       "Thinning interval = 8 \n",
       "Number of chains = 3 \n",
       "Sample size per chain = 1000 \n",
       "\n",
       "1. Empirical mean and standard deviation for each variable,\n",
       "   plus standard error of the mean:\n",
       "\n",
       "              Mean        SD  Naive SE Time-series SE\n",
       "deviance 3.489e+04 3.7758350 6.894e-02      7.195e-02\n",
       "sigma    3.000e+01 0.0009551 1.744e-05      1.914e-05\n",
       "theta0   4.014e-02 0.0399237 7.289e-04      7.893e-04\n",
       "theta1   1.216e-01 0.0002925 5.340e-06      5.338e-06\n",
       "theta2   7.946e-04 0.0008155 1.489e-05      1.663e-05\n",
       "\n",
       "2. Quantiles for each variable:\n",
       "\n",
       "              2.5%       25%       50%       75%     97.5%\n",
       "deviance 3.489e+04 3.489e+04 3.489e+04 3.489e+04 3.490e+04\n",
       "sigma    3.000e+01 3.000e+01 3.000e+01 3.000e+01 3.000e+01\n",
       "theta0   1.065e-03 1.165e-02 2.792e-02 5.566e-02 1.439e-01\n",
       "theta1   1.211e-01 1.214e-01 1.216e-01 1.218e-01 1.222e-01\n",
       "theta2   2.050e-05 2.244e-04 5.393e-04 1.120e-03 2.955e-03\n"
      ]
     },
     "metadata": {},
     "output_type": "display_data"
    }
   ],
   "source": [
    "summary(ex3.NIP.mcmc)"
   ]
  },
  {
   "cell_type": "markdown",
   "metadata": {},
   "source": [
    "Since we are forcing those parameters whose priors were inadequate to stay between ranges with lower probability, the estimated mean for $\\theta_0$, for instance, is close to 0. \n",
    "\n",
    "Let's now do the same experiment taking normal distributions as priors for our parameters despite $\\sigma$, which we will still keep the NIP:"
   ]
  },
  {
   "cell_type": "code",
   "execution_count": 47,
   "metadata": {},
   "outputs": [],
   "source": [
    "N<-length(row.names(df))\n",
    "\n",
    "cat(\"model {for (i in 1:N){ \n",
    "                y[i] ~ dnorm(y.hat[i], tau)\n",
    "                y.hat[i] <- theta0 + theta1 * x1[i] + theta2 * x2[i] \n",
    "                }\n",
    "\n",
    "            theta0 ~ dnorm(-385.18,1/19.46) \n",
    "            theta1 ~ dnorm(0.26,1/0.006)\n",
    "            theta2 ~ dnorm(-7.66,1/0.385)\n",
    "            tau <- pow(sigma, -2) \n",
    "            sigma ~ dunif(0,30)  \n",
    "            } \",file=\"ex3.prior.normal\")\n",
    "ex3.prior.normal <- list(\"x2\" = df$Income, \"x1\" = df$Limit, \"y\" = df$Balance, \"N\" = N)"
   ]
  },
  {
   "cell_type": "code",
   "execution_count": 48,
   "metadata": {},
   "outputs": [
    {
     "name": "stdout",
     "output_type": "stream",
     "text": [
      "Compiling model graph\n",
      "   Resolving undeclared variables\n",
      "   Allocating nodes\n",
      "Graph information:\n",
      "   Observed stochastic nodes: 400\n",
      "   Unobserved stochastic nodes: 4\n",
      "   Total graph size: 2408\n",
      "\n",
      "Initializing model\n",
      "\n"
     ]
    }
   ],
   "source": [
    "ex3.prior.normal.JAGS <-jags(data=ex3.prior.normal, n.chains=3,\n",
    "        parameters.to.save=c(\"theta0\", \"theta1\", \"theta2\", \"sigma\"), \n",
    "        model.file=\"ex3.prior.normal\",n.iter=10000,n.burnin=2000)"
   ]
  },
  {
   "cell_type": "code",
   "execution_count": 49,
   "metadata": {},
   "outputs": [
    {
     "data": {},
     "metadata": {},
     "output_type": "display_data"
    },
    {
     "data": {
      "image/png": "[encoded data removed]",
      "text/plain": [
       "plot without title"
      ]
     },
     "metadata": {},
     "output_type": "display_data"
    }
   ],
   "source": [
    "ex3.prior.normal.mcmc <- as.mcmc(ex3.prior.normal.JAGS)\n",
    "xyplot(ex3.prior.normal.mcmc)"
   ]
  },
  {
   "cell_type": "markdown",
   "metadata": {},
   "source": [
    "In this case, MCMC results are more optimistic that the other ones because, as you can see, now, the \"goat\" is able the explore the places with higher probabilities. In all cases, despite the $\\sigma$ parameter, $\\theta_0$, $\\theta_1$ and $\\theta_2$ explore the parameter space with success. Therefore, we should consider choosing another prior for $\\sigma$."
   ]
  },
  {
   "cell_type": "code",
   "execution_count": 50,
   "metadata": {},
   "outputs": [
    {
     "data": {
      "text/plain": [
       "\n",
       "Iterations = 2001:9993\n",
       "Thinning interval = 8 \n",
       "Number of chains = 3 \n",
       "Sample size per chain = 1000 \n",
       "\n",
       "1. Empirical mean and standard deviation for each variable,\n",
       "   plus standard error of the mean:\n",
       "\n",
       "               Mean        SD  Naive SE Time-series SE\n",
       "deviance 15539.5169 2.9516594 5.389e-02      5.384e-02\n",
       "sigma       29.9974 0.0025543 4.663e-05      4.971e-05\n",
       "theta0    -385.2109 2.8431877 5.191e-02      5.304e-02\n",
       "theta1       0.2643 0.0009676 1.767e-05      1.808e-05\n",
       "theta2      -7.6640 0.0696131 1.271e-03      1.301e-03\n",
       "\n",
       "2. Quantiles for each variable:\n",
       "\n",
       "               2.5%        25%        50%       75%      97.5%\n",
       "deviance 15535.6337 15537.3840 15538.9070 15541.049 15546.8438\n",
       "sigma       29.9906    29.9964    29.9981    29.999    29.9999\n",
       "theta0    -390.8066  -387.0585  -385.2395  -383.302  -379.5152\n",
       "theta1       0.2624     0.2637     0.2643     0.265     0.2662\n",
       "theta2      -7.7988    -7.7114    -7.6643    -7.618    -7.5260\n"
      ]
     },
     "metadata": {},
     "output_type": "display_data"
    }
   ],
   "source": [
    "summary(ex3.prior.normal.mcmc)"
   ]
  },
  {
   "cell_type": "markdown",
   "metadata": {},
   "source": [
    "Let's look at the posterior distributions for those parameters:"
   ]
  },
  {
   "cell_type": "code",
   "execution_count": 53,
   "metadata": {},
   "outputs": [
    {
     "data": {},
     "metadata": {},
     "output_type": "display_data"
    },
    {
     "data": {
      "image/png": "[encoded data removed]",
      "text/plain": [
       "plot without title"
      ]
     },
     "metadata": {},
     "output_type": "display_data"
    }
   ],
   "source": [
    "densityplot(ex3.prior.normal.mcmc)"
   ]
  },
  {
   "cell_type": "code",
   "execution_count": null,
   "metadata": {},
   "outputs": [],
   "source": [
    "simple.regression.stan.model<-\"\n",
    "    data{\n",
    "    int<lower=1> N;\n",
    "    vector[N] x1;\n",
    "    vector[N] x2;\n",
    "    vector[N] y; \n",
    "    }\n",
    "    parameters{\n",
    "    real theta0;\n",
    "    real theta1;\n",
    "    real theta2;\n",
    "    real<lower=0> sigma;\n",
    "    }\n",
    "    model{ \n",
    "        vector[N] y_hat;\n",
    "        y_hat = theta0 + theta1*x1 + theta2*x2; \n",
    "        sigma = pow(tau,-2)\n",
    "        # Likelihood   \n",
    "        y~normal(y_hat,tau);\n",
    "        # Prior \n",
    "        a ~ normal(0,5);\n",
    "        b ~ normal(0,10); \n",
    "        sigma ~ uniform(0,30);\n",
    "        }\n",
    "\"\n",
    "cat(simple.regression.stan.model,file=\"simple.regression.stan\")"
   ]
  }
 ],
 "metadata": {
  "kernelspec": {
   "display_name": "R",
   "language": "R",
   "name": "ir"
  },
  "language_info": {
   "codemirror_mode": "r",
   "file_extension": ".r",
   "mimetype": "text/x-r-source",
   "name": "R",
   "pygments_lexer": "r",
   "version": "3.5.2"
  }
 },
 "nbformat": 4,
 "nbformat_minor": 2
}
