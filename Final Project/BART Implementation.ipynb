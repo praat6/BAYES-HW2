{
 "cells": [
  {
   "cell_type": "code",
   "execution_count": 1,
   "metadata": {},
   "outputs": [],
   "source": [
    "options(java.parameters = \"-Xmx5g\")"
   ]
  },
  {
   "cell_type": "code",
   "execution_count": 2,
   "metadata": {},
   "outputs": [],
   "source": [
    "df <- read.csv(\"modified_dataset.csv\")"
   ]
  },
  {
   "cell_type": "code",
   "execution_count": 3,
   "metadata": {},
   "outputs": [],
   "source": [
    "library(BayesTree)"
   ]
  },
  {
   "cell_type": "code",
   "execution_count": 4,
   "metadata": {},
   "outputs": [],
   "source": [
    "a <- gsub('\\\\+','',df$Installs)\n",
    "a <- gsub(',','',a)\n",
    "df$install_interval <- strtoi(a)\n",
    "\n",
    "\n",
    "a <- gsub('\\\\M','',df$Size)\n",
    "a <- gsub('Varies with device','',a)\n",
    "df$Msize <- strtoi(a)\n",
    "\n",
    "\n",
    "a <- gsub(\"\\\\$\",\"\",df$Price)\n",
    "df$price <- as.numeric(a)"
   ]
  },
  {
   "cell_type": "code",
   "execution_count": 218,
   "metadata": {},
   "outputs": [],
   "source": [
    "smp_size <- floor(0.70 * nrow(df))\n",
    "\n",
    "train_ind <- sample(seq_len(nrow(df)), size = smp_size)\n",
    "\n",
    "train <- df[train_ind, ]\n",
    "test <- df[-train_ind, ]\n",
    "y_test <- test$Rating\n",
    "y_train <- train$Rating\n",
    "#X_train <- train[c(\"neutralRate\", \"sentiment_polarity_mean\", \"sentiment_subjectivity_mean\", \"install_interval\", \"Reviews\", \"Msize\", \"price\", \"positive\", \"negative\", \"neutral\")]\n",
    "#X_test <- test[c(\"neutralRate\", \"sentiment_polarity_mean\", \"sentiment_subjectivity_mean\", \"install_interval\", \"Reviews\", \"Msize\", \"price\", \"positive\", \"negative\", \"neutral\")]\n",
    "X_train <- train[c( \"negativeRate\", \"neutralRate\", \"sentiment_polarity_mean\", \"positiveRate\")]\n",
    "X_test <- test[c(\"negativeRate\", \"neutralRate\", \"sentiment_polarity_mean\", \"positiveRate\")]\n",
    "#X_train <- train[c(\"sentiment_polarity_mean\", \"install_interval\", \"Reviews\")]\n",
    "#X_test <- test[c(\"sentiment_polarity_mean\", \"install_interval\", \"Reviews\")]"
   ]
  },
  {
   "cell_type": "code",
   "execution_count": 129,
   "metadata": {},
   "outputs": [
    {
     "data": {
      "text/html": [
       "816"
      ],
      "text/latex": [
       "816"
      ],
      "text/markdown": [
       "816"
      ],
      "text/plain": [
       "[1] 816"
      ]
     },
     "metadata": {},
     "output_type": "display_data"
    },
    {
     "data": {
      "text/html": [
       "816"
      ],
      "text/latex": [
       "816"
      ],
      "text/markdown": [
       "816"
      ],
      "text/plain": [
       "[1] 816"
      ]
     },
     "metadata": {},
     "output_type": "display_data"
    }
   ],
   "source": [
    "length(df$neutralRate)\n",
    "length(df$neutral)"
   ]
  },
  {
   "cell_type": "code",
   "execution_count": 130,
   "metadata": {},
   "outputs": [
    {
     "data": {
      "text/html": [
       "<ol class=list-inline>\n",
       "\t<li>571</li>\n",
       "\t<li>3</li>\n",
       "</ol>\n"
      ],
      "text/latex": [
       "\\begin{enumerate*}\n",
       "\\item 571\n",
       "\\item 3\n",
       "\\end{enumerate*}\n"
      ],
      "text/markdown": [
       "1. 571\n",
       "2. 3\n",
       "\n",
       "\n"
      ],
      "text/plain": [
       "[1] 571   3"
      ]
     },
     "metadata": {},
     "output_type": "display_data"
    },
    {
     "data": {
      "text/html": [
       "<ol class=list-inline>\n",
       "\t<li>245</li>\n",
       "\t<li>3</li>\n",
       "</ol>\n"
      ],
      "text/latex": [
       "\\begin{enumerate*}\n",
       "\\item 245\n",
       "\\item 3\n",
       "\\end{enumerate*}\n"
      ],
      "text/markdown": [
       "1. 245\n",
       "2. 3\n",
       "\n",
       "\n"
      ],
      "text/plain": [
       "[1] 245   3"
      ]
     },
     "metadata": {},
     "output_type": "display_data"
    }
   ],
   "source": [
    "dim(X_train)\n",
    "dim(X_test)"
   ]
  },
  {
   "cell_type": "code",
   "execution_count": 131,
   "metadata": {},
   "outputs": [],
   "source": [
    "library(bartMachine)"
   ]
  },
  {
   "cell_type": "code",
   "execution_count": 210,
   "metadata": {},
   "outputs": [
    {
     "name": "stdout",
     "output_type": "stream",
     "text": [
      "\n",
      "\n",
      "Running BART with numeric y\n",
      "\n",
      "number of trees: 200\n",
      "Prior:\n",
      "\tk: 2.000000\n",
      "\tdegrees of freedom in sigma prior: 3\n",
      "\tquantile in sigma prior: 0.900000\n",
      "\tpower and base for tree prior: 2.000000 0.950000\n",
      "\tuse quantiles for rule cut points: 0\n",
      "data:\n",
      "\tnumber of training observations: 571\n",
      "\tnumber of test observations: 245\n",
      "\tnumber of explanatory variables: 5\n",
      "\n",
      "\n",
      "Cutoff rules c in x<=c vs x>c\n",
      "Number of cutoffs: (var: number of possible c):\n",
      "(1: 100) (2: 100) (3: 100) (4: 100) (5: 100) \n",
      "\n",
      "\n",
      "\n",
      "Running mcmc loop:\n",
      "iteration: 100 (of 1100)\n",
      "iteration: 200 (of 1100)\n",
      "iteration: 300 (of 1100)\n",
      "iteration: 400 (of 1100)\n",
      "iteration: 500 (of 1100)\n",
      "iteration: 600 (of 1100)\n",
      "iteration: 700 (of 1100)\n",
      "iteration: 800 (of 1100)\n",
      "iteration: 900 (of 1100)\n",
      "iteration: 1000 (of 1100)\n",
      "iteration: 1100 (of 1100)\n",
      "time for loop: 18\n",
      "\n",
      "Tree sizes, last iteration:\n",
      "2 3 2 2 2 2 2 2 2 4 2 3 2 2 2 1 2 4 2 2 \n",
      "2 3 4 2 3 2 2 2 2 2 2 2 2 2 2 3 2 2 2 2 \n",
      "2 3 2 3 2 2 2 3 2 3 2 2 2 2 2 2 2 2 2 3 \n",
      "2 2 3 2 2 2 2 3 2 2 3 3 2 3 2 2 3 3 2 4 \n",
      "2 2 2 3 2 2 2 2 2 2 2 2 2 1 2 2 2 2 2 2 \n",
      "5 2 2 2 2 2 2 2 2 1 2 1 3 3 3 2 2 3 2 1 \n",
      "2 2 2 2 2 3 2 2 2 2 2 2 2 2 2 3 2 2 3 2 \n",
      "3 2 2 2 2 2 2 2 3 1 3 2 4 3 3 3 3 2 2 3 \n",
      "3 2 2 2 2 2 3 2 2 3 2 2 3 1 2 2 3 3 2 2 \n",
      "2 2 2 3 2 4 2 2 3 2 1 2 3 2 2 2 2 3 3 3 \n",
      "Variable Usage, last iteration (var:count):\n",
      "(1: 44) (2: 59) (3: 50) (4: 53) (5: 46) \n",
      "\n",
      "DONE BART 11-2-2014\n",
      "\n"
     ]
    }
   ],
   "source": [
    "b <- bart(x.train = X_train, y.train = y_train, x.test = X_test, ntree = 200)"
   ]
  },
  {
   "cell_type": "code",
   "execution_count": 133,
   "metadata": {},
   "outputs": [
    {
     "data": {
      "text/html": [
       "4.29420053046862"
      ],
      "text/latex": [
       "4.29420053046862"
      ],
      "text/markdown": [
       "4.29420053046862"
      ],
      "text/plain": [
       "[1] 4.294201"
      ]
     },
     "metadata": {},
     "output_type": "display_data"
    }
   ],
   "source": [
    "mean(b$yhat.test.mean)"
   ]
  },
  {
   "cell_type": "code",
   "execution_count": 134,
   "metadata": {},
   "outputs": [
    {
     "data": {
      "text/html": [
       "4.28448979591837"
      ],
      "text/latex": [
       "4.28448979591837"
      ],
      "text/markdown": [
       "4.28448979591837"
      ],
      "text/plain": [
       "[1] 4.28449"
      ]
     },
     "metadata": {},
     "output_type": "display_data"
    }
   ],
   "source": [
    "mean(y_test)"
   ]
  },
  {
   "cell_type": "code",
   "execution_count": 135,
   "metadata": {},
   "outputs": [
    {
     "data": {
      "text/html": [
       "19.7510546044174"
      ],
      "text/latex": [
       "19.7510546044174"
      ],
      "text/markdown": [
       "19.7510546044174"
      ],
      "text/plain": [
       "[1] 19.75105"
      ]
     },
     "metadata": {},
     "output_type": "display_data"
    }
   ],
   "source": [
    "SSE_200 <- sum((b$yhat.test.mean-y_test)^2)\n",
    "SSE_200"
   ]
  },
  {
   "cell_type": "code",
   "execution_count": 136,
   "metadata": {},
   "outputs": [
    {
     "data": {
      "text/html": [
       "<ol class=list-inline>\n",
       "\t<li>4.4</li>\n",
       "\t<li>4.3</li>\n",
       "\t<li>4.4</li>\n",
       "\t<li>4.4</li>\n",
       "\t<li>4.2</li>\n",
       "\t<li>4.2</li>\n",
       "\t<li>4.1</li>\n",
       "\t<li>4.2</li>\n",
       "\t<li>4.4</li>\n",
       "\t<li>4.2</li>\n",
       "</ol>\n"
      ],
      "text/latex": [
       "\\begin{enumerate*}\n",
       "\\item 4.4\n",
       "\\item 4.3\n",
       "\\item 4.4\n",
       "\\item 4.4\n",
       "\\item 4.2\n",
       "\\item 4.2\n",
       "\\item 4.1\n",
       "\\item 4.2\n",
       "\\item 4.4\n",
       "\\item 4.2\n",
       "\\end{enumerate*}\n"
      ],
      "text/markdown": [
       "1. 4.4\n",
       "2. 4.3\n",
       "3. 4.4\n",
       "4. 4.4\n",
       "5. 4.2\n",
       "6. 4.2\n",
       "7. 4.1\n",
       "8. 4.2\n",
       "9. 4.4\n",
       "10. 4.2\n",
       "\n",
       "\n"
      ],
      "text/plain": [
       " [1] 4.4 4.3 4.4 4.4 4.2 4.2 4.1 4.2 4.4 4.2"
      ]
     },
     "metadata": {},
     "output_type": "display_data"
    },
    {
     "data": {
      "text/html": [
       "<ol class=list-inline>\n",
       "\t<li>4.5</li>\n",
       "\t<li>4.7</li>\n",
       "\t<li>4.9</li>\n",
       "\t<li>4.6</li>\n",
       "\t<li>4.3</li>\n",
       "\t<li>4</li>\n",
       "\t<li>4.4</li>\n",
       "\t<li>4.2</li>\n",
       "\t<li>4.5</li>\n",
       "\t<li>4.3</li>\n",
       "</ol>\n"
      ],
      "text/latex": [
       "\\begin{enumerate*}\n",
       "\\item 4.5\n",
       "\\item 4.7\n",
       "\\item 4.9\n",
       "\\item 4.6\n",
       "\\item 4.3\n",
       "\\item 4\n",
       "\\item 4.4\n",
       "\\item 4.2\n",
       "\\item 4.5\n",
       "\\item 4.3\n",
       "\\end{enumerate*}\n"
      ],
      "text/markdown": [
       "1. 4.5\n",
       "2. 4.7\n",
       "3. 4.9\n",
       "4. 4.6\n",
       "5. 4.3\n",
       "6. 4\n",
       "7. 4.4\n",
       "8. 4.2\n",
       "9. 4.5\n",
       "10. 4.3\n",
       "\n",
       "\n"
      ],
      "text/plain": [
       " [1] 4.5 4.7 4.9 4.6 4.3 4.0 4.4 4.2 4.5 4.3"
      ]
     },
     "metadata": {},
     "output_type": "display_data"
    }
   ],
   "source": [
    "round(b$yhat.test.mean[1:10],1)\n",
    "y_test[1:10]"
   ]
  },
  {
   "cell_type": "code",
   "execution_count": 137,
   "metadata": {},
   "outputs": [
    {
     "data": {
      "text/html": [
       "0.83265306122449"
      ],
      "text/latex": [
       "0.83265306122449"
      ],
      "text/markdown": [
       "0.83265306122449"
      ],
      "text/plain": [
       "[1] 0.8326531"
      ]
     },
     "metadata": {},
     "output_type": "display_data"
    },
    {
     "data": {
      "text/html": [
       "0.661224489795918"
      ],
      "text/latex": [
       "0.661224489795918"
      ],
      "text/markdown": [
       "0.661224489795918"
      ],
      "text/plain": [
       "[1] 0.6612245"
      ]
     },
     "metadata": {},
     "output_type": "display_data"
    },
    {
     "data": {
      "text/html": [
       "0.644897959183673"
      ],
      "text/latex": [
       "0.644897959183673"
      ],
      "text/markdown": [
       "0.644897959183673"
      ],
      "text/plain": [
       "[1] 0.644898"
      ]
     },
     "metadata": {},
     "output_type": "display_data"
    },
    {
     "data": {
      "text/html": [
       "0.604081632653061"
      ],
      "text/latex": [
       "0.604081632653061"
      ],
      "text/markdown": [
       "0.604081632653061"
      ],
      "text/plain": [
       "[1] 0.6040816"
      ]
     },
     "metadata": {},
     "output_type": "display_data"
    }
   ],
   "source": [
    "get_accuracy <- function(y_hat, y_test, error){\n",
    "    diff <- abs(y_hat - y_test)\n",
    "    aux <- diff < (error*y_hat/100)\n",
    "    acc <- sum(aux)/length(y_test)\n",
    "    return (acc)\n",
    "}\n",
    "\n",
    "y_hat <- round(b$yhat.test.mean,1)\n",
    "a <- get_accuracy(log(y_hat), log(y_test), 5)\n",
    "a\n",
    "0.661224489795918 # 5 variables\n",
    "0.644897959183673 # 4 variables\n",
    "0.604081632653061 # pos neg, sentiment polarity"
   ]
  },
  {
   "cell_type": "code",
   "execution_count": 219,
   "metadata": {},
   "outputs": [
    {
     "name": "stdout",
     "output_type": "stream",
     "text": [
      "bartMachine initializing with 100 trees...\n",
      "bartMachine vars checked...\n",
      "bartMachine java init...\n",
      "bartMachine factors created...\n",
      "bartMachine before preprocess...\n",
      "bartMachine after preprocess... 5 total features...\n",
      "bartMachine sigsq estimated...\n",
      "bartMachine training data finalized...\n",
      "Now building bartMachine for regression ...Missing data feature ON. \n",
      "evaluating in sample data...done\n"
     ]
    }
   ],
   "source": [
    "bart_object<- bartMachine(X_train, y_train, num_trees = 100, q = 0.90, nu = 3, use_missing_data = TRUE, k = 5)\n",
    "#bart_object<- bartMachine(X_train, y_train)\n",
    "#k: 5 nu, q: 3, 0.9 m: 200 "
   ]
  },
  {
   "cell_type": "code",
   "execution_count": 220,
   "metadata": {},
   "outputs": [
    {
     "data": {
      "text/plain": [
       "bartMachine v1.2.3 for regression\n",
       "\n",
       "Missing data feature ON\n",
       "training data n = 571 and p = 4 \n",
       "built in 1.9 secs on 1 core, 100 trees, 250 burn-in and 1000 post. samples\n",
       "\n",
       "sigsq est for y beforehand: 0.081 \n",
       "avg sigsq estimate after burn-in: 0.07133 \n",
       "\n",
       "in-sample statistics:\n",
       " L1 = 112.28 \n",
       " L2 = 38.61 \n",
       " rmse = 0.26 \n",
       " Pseudo-Rsq = 0.2505\n",
       "p-val for shapiro-wilk test of normality of residuals: 0 \n",
       "p-val for zero-mean noise: 0.82006 \n"
      ]
     },
     "metadata": {},
     "output_type": "display_data"
    }
   ],
   "source": [
    "bart_object"
   ]
  },
  {
   "cell_type": "code",
   "execution_count": 221,
   "metadata": {},
   "outputs": [
    {
     "name": "stdout",
     "output_type": "stream",
     "text": [
      ".....\n"
     ]
    },
    {
     "data": {
      "image/png": "[encoded data removed]",
      "text/plain": [
       "plot without title"
      ]
     },
     "metadata": {},
     "output_type": "display_data"
    }
   ],
   "source": [
    "investigate_var_importance(bart_object)"
   ]
  },
  {
   "cell_type": "code",
   "execution_count": null,
   "metadata": {},
   "outputs": [],
   "source": [
    "rmse_by_num_trees(bart_object, num_replicates = 20)"
   ]
  },
  {
   "cell_type": "code",
   "execution_count": 205,
   "metadata": {},
   "outputs": [],
   "source": [
    "yhat <- predict(bart_object, X_test)"
   ]
  },
  {
   "cell_type": "code",
   "execution_count": 206,
   "metadata": {},
   "outputs": [
    {
     "data": {
      "text/html": [
       "<ol class=list-inline>\n",
       "\t<li>4.4</li>\n",
       "\t<li>4.3</li>\n",
       "\t<li>4.4</li>\n",
       "\t<li>4.4</li>\n",
       "\t<li>4.2</li>\n",
       "\t<li>4.3</li>\n",
       "\t<li>4.1</li>\n",
       "\t<li>4.2</li>\n",
       "\t<li>4.3</li>\n",
       "\t<li>4.2</li>\n",
       "</ol>\n"
      ],
      "text/latex": [
       "\\begin{enumerate*}\n",
       "\\item 4.4\n",
       "\\item 4.3\n",
       "\\item 4.4\n",
       "\\item 4.4\n",
       "\\item 4.2\n",
       "\\item 4.3\n",
       "\\item 4.1\n",
       "\\item 4.2\n",
       "\\item 4.3\n",
       "\\item 4.2\n",
       "\\end{enumerate*}\n"
      ],
      "text/markdown": [
       "1. 4.4\n",
       "2. 4.3\n",
       "3. 4.4\n",
       "4. 4.4\n",
       "5. 4.2\n",
       "6. 4.3\n",
       "7. 4.1\n",
       "8. 4.2\n",
       "9. 4.3\n",
       "10. 4.2\n",
       "\n",
       "\n"
      ],
      "text/plain": [
       " [1] 4.4 4.3 4.4 4.4 4.2 4.3 4.1 4.2 4.3 4.2"
      ]
     },
     "metadata": {},
     "output_type": "display_data"
    },
    {
     "data": {
      "text/html": [
       "<ol class=list-inline>\n",
       "\t<li>4.5</li>\n",
       "\t<li>4.7</li>\n",
       "\t<li>4.9</li>\n",
       "\t<li>4.6</li>\n",
       "\t<li>4.3</li>\n",
       "\t<li>4</li>\n",
       "\t<li>4.4</li>\n",
       "\t<li>4.2</li>\n",
       "\t<li>4.5</li>\n",
       "\t<li>4.3</li>\n",
       "</ol>\n"
      ],
      "text/latex": [
       "\\begin{enumerate*}\n",
       "\\item 4.5\n",
       "\\item 4.7\n",
       "\\item 4.9\n",
       "\\item 4.6\n",
       "\\item 4.3\n",
       "\\item 4\n",
       "\\item 4.4\n",
       "\\item 4.2\n",
       "\\item 4.5\n",
       "\\item 4.3\n",
       "\\end{enumerate*}\n"
      ],
      "text/markdown": [
       "1. 4.5\n",
       "2. 4.7\n",
       "3. 4.9\n",
       "4. 4.6\n",
       "5. 4.3\n",
       "6. 4\n",
       "7. 4.4\n",
       "8. 4.2\n",
       "9. 4.5\n",
       "10. 4.3\n",
       "\n",
       "\n"
      ],
      "text/plain": [
       " [1] 4.5 4.7 4.9 4.6 4.3 4.0 4.4 4.2 4.5 4.3"
      ]
     },
     "metadata": {},
     "output_type": "display_data"
    }
   ],
   "source": [
    "round(yhat[0:10],1)\n",
    "y_test[0:10]"
   ]
  },
  {
   "cell_type": "code",
   "execution_count": 207,
   "metadata": {},
   "outputs": [
    {
     "data": {
      "text/html": [
       "19.9"
      ],
      "text/latex": [
       "19.9"
      ],
      "text/markdown": [
       "19.9"
      ],
      "text/plain": [
       "[1] 19.9"
      ]
     },
     "metadata": {},
     "output_type": "display_data"
    }
   ],
   "source": [
    "SSE_200 <- sum((y_hat-y_test)^2)\n",
    "SSE_200"
   ]
  },
  {
   "cell_type": "code",
   "execution_count": 208,
   "metadata": {},
   "outputs": [
    {
     "data": {
      "text/html": [
       "0.844897959183673"
      ],
      "text/latex": [
       "0.844897959183673"
      ],
      "text/markdown": [
       "0.844897959183673"
      ],
      "text/plain": [
       "[1] 0.844898"
      ]
     },
     "metadata": {},
     "output_type": "display_data"
    },
    {
     "data": {
      "text/html": [
       "0.640816326530612"
      ],
      "text/latex": [
       "0.640816326530612"
      ],
      "text/markdown": [
       "0.640816326530612"
      ],
      "text/plain": [
       "[1] 0.6408163"
      ]
     },
     "metadata": {},
     "output_type": "display_data"
    },
    {
     "data": {
      "text/html": [
       "0.63265306122449"
      ],
      "text/latex": [
       "0.63265306122449"
      ],
      "text/markdown": [
       "0.63265306122449"
      ],
      "text/plain": [
       "[1] 0.6326531"
      ]
     },
     "metadata": {},
     "output_type": "display_data"
    },
    {
     "data": {
      "text/html": [
       "0.616326530612245"
      ],
      "text/latex": [
       "0.616326530612245"
      ],
      "text/markdown": [
       "0.616326530612245"
      ],
      "text/plain": [
       "[1] 0.6163265"
      ]
     },
     "metadata": {},
     "output_type": "display_data"
    }
   ],
   "source": [
    "y_hat <- round(yhat,1)\n",
    "a <- get_accuracy(log(y_hat), log(y_test), 5)\n",
    "a\n",
    "0.640816326530612 # 5 variables\n",
    "0.63265306122449 # 4 vars\n",
    "0.616326530612245 # 3 vars pos, neg, sent polarity"
   ]
  },
  {
   "cell_type": "code",
   "execution_count": 143,
   "metadata": {},
   "outputs": [
    {
     "name": "stdout",
     "output_type": "stream",
     "text": [
      "  bartMachine CV try: k: 2 nu, q: 3, 0.9 m: 50 \n",
      ".....\n",
      "  bartMachine CV try: k: 2 nu, q: 3, 0.9 m: 200 \n",
      ".....\n",
      "  bartMachine CV try: k: 2 nu, q: 3, 0.99 m: 50 \n",
      ".....\n",
      "  bartMachine CV try: k: 2 nu, q: 3, 0.99 m: 200 \n",
      ".....\n",
      "  bartMachine CV try: k: 2 nu, q: 10, 0.75 m: 50 \n",
      ".....\n",
      "  bartMachine CV try: k: 2 nu, q: 10, 0.75 m: 200 \n",
      ".....\n",
      "  bartMachine CV try: k: 3 nu, q: 3, 0.9 m: 50 \n",
      ".....\n",
      "  bartMachine CV try: k: 3 nu, q: 3, 0.9 m: 200 \n",
      ".....\n",
      "  bartMachine CV try: k: 3 nu, q: 3, 0.99 m: 50 \n",
      ".....\n",
      "  bartMachine CV try: k: 3 nu, q: 3, 0.99 m: 200 \n",
      ".....\n",
      "  bartMachine CV try: k: 3 nu, q: 10, 0.75 m: 50 \n",
      ".....\n",
      "  bartMachine CV try: k: 3 nu, q: 10, 0.75 m: 200 \n",
      ".....\n",
      "  bartMachine CV try: k: 5 nu, q: 3, 0.9 m: 50 \n",
      ".....\n",
      "  bartMachine CV try: k: 5 nu, q: 3, 0.9 m: 200 \n",
      ".....\n",
      "  bartMachine CV try: k: 5 nu, q: 3, 0.99 m: 50 \n",
      ".....\n",
      "  bartMachine CV try: k: 5 nu, q: 3, 0.99 m: 200 \n",
      ".....\n",
      "  bartMachine CV try: k: 5 nu, q: 10, 0.75 m: 50 \n",
      ".....\n",
      "  bartMachine CV try: k: 5 nu, q: 10, 0.75 m: 200 \n",
      ".....\n",
      "  bartMachine CV win: k: 5 nu, q: 3, 0.9 m: 200 \n",
      "bartMachine initializing with 200 trees...\n",
      "bartMachine vars checked...\n",
      "bartMachine java init...\n",
      "bartMachine factors created...\n",
      "bartMachine before preprocess...\n",
      "bartMachine after preprocess... 4 total features...\n",
      "bartMachine sigsq estimated...\n",
      "bartMachine training data finalized...\n",
      "Now building bartMachine for regression ...\n",
      "evaluating in sample data...done\n"
     ]
    }
   ],
   "source": [
    "bart_object2 <- bartMachineCV(X_train, y_train)"
   ]
  },
  {
   "cell_type": "code",
   "execution_count": 193,
   "metadata": {},
   "outputs": [
    {
     "data": {
      "text/plain": [
       "bartMachine v1.2.3 for regression\n",
       "\n",
       "training data n = 571 and p = 3 \n",
       "built in 6.4 secs on 1 core, 200 trees, 250 burn-in and 1000 post. samples\n",
       "\n",
       "sigsq est for y beforehand: 0.088 \n",
       "avg sigsq estimate after burn-in: 0.07906 \n",
       "\n",
       "in-sample statistics:\n",
       " L1 = 118.41 \n",
       " L2 = 42.97 \n",
       " rmse = 0.27 \n",
       " Pseudo-Rsq = 0.2459\n",
       "p-val for shapiro-wilk test of normality of residuals: 0 \n",
       "p-val for zero-mean noise: 0.81284 \n"
      ]
     },
     "metadata": {},
     "output_type": "display_data"
    }
   ],
   "source": [
    "bart_object2"
   ]
  },
  {
   "cell_type": "code",
   "execution_count": 194,
   "metadata": {},
   "outputs": [
    {
     "data": {
      "text/html": [
       "<ol class=list-inline>\n",
       "\t<li>4.4</li>\n",
       "\t<li>4.3</li>\n",
       "\t<li>4.4</li>\n",
       "\t<li>4.4</li>\n",
       "\t<li>4.1</li>\n",
       "\t<li>4.3</li>\n",
       "\t<li>4.1</li>\n",
       "\t<li>4.2</li>\n",
       "\t<li>4.3</li>\n",
       "\t<li>4.2</li>\n",
       "</ol>\n"
      ],
      "text/latex": [
       "\\begin{enumerate*}\n",
       "\\item 4.4\n",
       "\\item 4.3\n",
       "\\item 4.4\n",
       "\\item 4.4\n",
       "\\item 4.1\n",
       "\\item 4.3\n",
       "\\item 4.1\n",
       "\\item 4.2\n",
       "\\item 4.3\n",
       "\\item 4.2\n",
       "\\end{enumerate*}\n"
      ],
      "text/markdown": [
       "1. 4.4\n",
       "2. 4.3\n",
       "3. 4.4\n",
       "4. 4.4\n",
       "5. 4.1\n",
       "6. 4.3\n",
       "7. 4.1\n",
       "8. 4.2\n",
       "9. 4.3\n",
       "10. 4.2\n",
       "\n",
       "\n"
      ],
      "text/plain": [
       " [1] 4.4 4.3 4.4 4.4 4.1 4.3 4.1 4.2 4.3 4.2"
      ]
     },
     "metadata": {},
     "output_type": "display_data"
    },
    {
     "data": {
      "text/html": [
       "<ol class=list-inline>\n",
       "\t<li>4.5</li>\n",
       "\t<li>4.7</li>\n",
       "\t<li>4.9</li>\n",
       "\t<li>4.6</li>\n",
       "\t<li>4.3</li>\n",
       "\t<li>4</li>\n",
       "\t<li>4.4</li>\n",
       "\t<li>4.2</li>\n",
       "\t<li>4.5</li>\n",
       "\t<li>4.3</li>\n",
       "</ol>\n"
      ],
      "text/latex": [
       "\\begin{enumerate*}\n",
       "\\item 4.5\n",
       "\\item 4.7\n",
       "\\item 4.9\n",
       "\\item 4.6\n",
       "\\item 4.3\n",
       "\\item 4\n",
       "\\item 4.4\n",
       "\\item 4.2\n",
       "\\item 4.5\n",
       "\\item 4.3\n",
       "\\end{enumerate*}\n"
      ],
      "text/markdown": [
       "1. 4.5\n",
       "2. 4.7\n",
       "3. 4.9\n",
       "4. 4.6\n",
       "5. 4.3\n",
       "6. 4\n",
       "7. 4.4\n",
       "8. 4.2\n",
       "9. 4.5\n",
       "10. 4.3\n",
       "\n",
       "\n"
      ],
      "text/plain": [
       " [1] 4.5 4.7 4.9 4.6 4.3 4.0 4.4 4.2 4.5 4.3"
      ]
     },
     "metadata": {},
     "output_type": "display_data"
    }
   ],
   "source": [
    "yhat <- predict(bart_object2, X_test)\n",
    "round(yhat[0:10],1)\n",
    "y_test[0:10]"
   ]
  },
  {
   "cell_type": "code",
   "execution_count": 195,
   "metadata": {},
   "outputs": [
    {
     "data": {
      "text/html": [
       "0.840816326530612"
      ],
      "text/latex": [
       "0.840816326530612"
      ],
      "text/markdown": [
       "0.840816326530612"
      ],
      "text/plain": [
       "[1] 0.8408163"
      ]
     },
     "metadata": {},
     "output_type": "display_data"
    }
   ],
   "source": [
    "y_hat <- round(yhat,1)\n",
    "a <- get_accuracy(log(y_hat), log(y_test), 5)\n",
    "a"
   ]
  },
  {
   "cell_type": "code",
   "execution_count": 114,
   "metadata": {},
   "outputs": [
    {
     "data": {
      "text/html": [
       "0.820408163265306"
      ],
      "text/latex": [
       "0.820408163265306"
      ],
      "text/markdown": [
       "0.820408163265306"
      ],
      "text/plain": [
       "[1] 0.8204082"
      ]
     },
     "metadata": {},
     "output_type": "display_data"
    }
   ],
   "source": [
    "0.820408163265306 # 3 variables"
   ]
  },
  {
   "cell_type": "code",
   "execution_count": 116,
   "metadata": {},
   "outputs": [
    {
     "data": {
      "text/html": [
       "0.775510204081633"
      ],
      "text/latex": [
       "0.775510204081633"
      ],
      "text/markdown": [
       "0.775510204081633"
      ],
      "text/plain": [
       "[1] 0.7755102"
      ]
     },
     "metadata": {},
     "output_type": "display_data"
    }
   ],
   "source": [
    "0.775510204081633 # 5 variables"
   ]
  },
  {
   "cell_type": "code",
   "execution_count": 153,
   "metadata": {},
   "outputs": [
    {
     "data": {
      "text/html": [
       "0.771428571428571"
      ],
      "text/latex": [
       "0.771428571428571"
      ],
      "text/markdown": [
       "0.771428571428571"
      ],
      "text/plain": [
       "[1] 0.7714286"
      ]
     },
     "metadata": {},
     "output_type": "display_data"
    }
   ],
   "source": [
    "0.771428571428571 # 4 variables"
   ]
  },
  {
   "cell_type": "code",
   "execution_count": 156,
   "metadata": {},
   "outputs": [
    {
     "name": "stdout",
     "output_type": "stream",
     "text": [
      "num_trees = ..5..5..5..5..5..5..5..5..5..5..5..5..5..5..5..5..5..5..5..5..10..10..10..10..10..10..10..10..10..10..10..10..10..10..10..10..10..10..10..10..20..20..20..20..20..20..20..20..20..20..20..20..20..20..20..20..20..20..20..20..30..30..30..30..30..30..30..30..30..30..30..30..30..30..30..30..30..30..30..30..40..40..40..40..40..40..40..40..40..40..40..40..40..40..40..40..40..40..40..40..50..50..50..50..50..50..50..50..50..50..50..50..50..50..50..50..50..50..50..50..100..100..100..100..100..100..100..100..100..100..100..100..100..100..100..100..100..100..100..100..150..150..150..150..150..150..150..150..150..150..150..150..150..150..150..150..150..150..150..150..200..200..200..200..200..200..200..200..200..200..200..200..200..200..200..200..200..200..200..200\n"
     ]
    },
    {
     "data": {
      "image/png": "[encoded data removed]",
      "text/plain": [
       "Plot with title \"Out-Of-Sample RMSE by Number of Trees\""
      ]
     },
     "metadata": {},
     "output_type": "display_data"
    }
   ],
   "source": [
    "rmse_by_num_trees(bart_object2, num_replicates = 20)"
   ]
  }
 ],
 "metadata": {
  "kernelspec": {
   "display_name": "R",
   "language": "R",
   "name": "ir"
  },
  "language_info": {
   "codemirror_mode": "r",
   "file_extension": ".r",
   "mimetype": "text/x-r-source",
   "name": "R",
   "pygments_lexer": "r",
   "version": "3.5.1"
  }
 },
 "nbformat": 4,
 "nbformat_minor": 2
}
