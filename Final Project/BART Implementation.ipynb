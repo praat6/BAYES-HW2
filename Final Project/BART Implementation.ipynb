{
 "cells": [
  {
   "cell_type": "markdown",
   "metadata": {},
   "source": [
    "# Bayes Final Project - BART\n",
    "\n",
    "We did not have it clean. We experimented using several notebooks. Therefore, we had to put it together and execute it again. This is the reason why some graphs and numbers may be different that the ones exposed in the report since every draw changes slightly due to randomness."
   ]
  },
  {
   "cell_type": "code",
   "execution_count": 1,
   "metadata": {},
   "outputs": [],
   "source": [
    "df_raw <- read.csv(\"googleplaystore.csv\")\n",
    "df_review <- read.csv(\"googleplaystore_user_reviews.csv\")\n",
    "t <- !is.nan(df_review$Sentiment_Polarity)\n",
    "df_review2 <- subset(df_review, t)\n",
    "df_2 <- subset(df_raw, !duplicated(df_raw$App))\n",
    "row.names(df_2) <- df_2$App\n",
    "for (app in unique(df_review2$App)) {\n",
    "    s <- subset(df_review2, df_review2$App == app)\n",
    "    df_2[app, \"sentiment_polarity_mean\"] <- mean(s$Sentiment_Polarity)\n",
    "    df_2[app, \"sentiment_subjectivity_mean\"] <- mean(s$Sentiment_Subjectivity)\n",
    "    df_2[app, \"positive\"] <- sum(s$Sentiment == \"Positive\")\n",
    "    df_2[app, \"negative\"] <- sum(s$Sentiment == \"Negative\")\n",
    "    df_2[app, \"neutral\"] <- sum(s$Sentiment == \"Neutral\")\n",
    "}"
   ]
  },
  {
   "cell_type": "code",
   "execution_count": 2,
   "metadata": {},
   "outputs": [],
   "source": [
    "df <- subset(df_2, !is.na(df_2$sentiment_polarity_mean))\n",
    "df <- subset(df, !is.na(df$Category))\n",
    "df$positiveRate <- df$positive/(df$negative+df$neutral+df$positive)\n",
    "df$negativeRate <- df$negative/(df$negative+df$neutral+df$positive)\n",
    "df$neutralRate <- df$neutral/(df$negative+df$neutral+df$positive)"
   ]
  },
  {
   "cell_type": "code",
   "execution_count": null,
   "metadata": {},
   "outputs": [],
   "source": [
    "write.csv(df, \"modified_dataset.csv\")"
   ]
  },
  {
   "cell_type": "code",
   "execution_count": 3,
   "metadata": {},
   "outputs": [],
   "source": [
    "df <- read.csv(\"modified_dataset.csv\")"
   ]
  },
  {
   "cell_type": "code",
   "execution_count": 4,
   "metadata": {},
   "outputs": [],
   "source": [
    "options(java.parameters = \"-Xmx5g\")"
   ]
  },
  {
   "cell_type": "code",
   "execution_count": 5,
   "metadata": {},
   "outputs": [],
   "source": [
    "a <- gsub('\\\\+','',df$Installs)\n",
    "a <- gsub(',','',a)\n",
    "df$install_interval <- strtoi(a)\n",
    "\n",
    "\n",
    "a <- gsub('\\\\M','',df$Size)\n",
    "a <- gsub('Varies with device','',a)\n",
    "df$Msize <- strtoi(a)\n",
    "\n",
    "\n",
    "a <- gsub(\"\\\\$\",\"\",df$Price)\n",
    "df$price <- as.numeric(a)"
   ]
  },
  {
   "cell_type": "code",
   "execution_count": 38,
   "metadata": {},
   "outputs": [],
   "source": [
    "smp_size <- floor(0.70 * nrow(df))\n",
    "\n",
    "train_ind <- sample(seq_len(nrow(df)), size = smp_size)\n",
    "\n",
    "train <- df[train_ind, ]\n",
    "test <- df[-train_ind, ]\n",
    "y_test <- test$Rating\n",
    "y_train <- train$Rating\n",
    "#X_train <- train[c(\"neutralRate\", \"sentiment_polarity_mean\", \"sentiment_subjectivity_mean\", \"install_interval\", \"Reviews\", \"Msize\", \"price\", \"positive\", \"negative\", \"neutral\")]\n",
    "#X_test <- test[c(\"neutralRate\", \"sentiment_polarity_mean\", \"sentiment_subjectivity_mean\", \"install_interval\", \"Reviews\", \"Msize\", \"price\", \"positive\", \"negative\", \"neutral\")]\n",
    "X_train <- train[c( \"negativeRate\", \"neutralRate\", \"sentiment_polarity_mean\")]\n",
    "X_test <- test[c(\"negativeRate\", \"neutralRate\", \"sentiment_polarity_mean\")]\n",
    "#X_train <- train[c(\"sentiment_polarity_mean\", \"install_interval\", \"Reviews\")]\n",
    "#X_test <- test[c(\"sentiment_polarity_mean\", \"install_interval\", \"Reviews\")]"
   ]
  },
  {
   "cell_type": "code",
   "execution_count": null,
   "metadata": {},
   "outputs": [],
   "source": [
    "df2 <- cbind(df$Rating, df$neutralRate, df$negativeRate, df$sentiment_polarity_mean)\n",
    "library(psych)\n",
    "pairs.panels(df2, pch=21,main=\"Correlation\", ci=T)\n",
    "cor.test(df$Rating, df$neutralRate)\n",
    "cor.test(df$Rating, df$negativeRate)\n",
    "cor.test(df$Rating, df$sentiment_polarity_mean)"
   ]
  },
  {
   "cell_type": "code",
   "execution_count": 19,
   "metadata": {},
   "outputs": [
    {
     "data": {
      "text/html": [
       "816"
      ],
      "text/latex": [
       "816"
      ],
      "text/markdown": [
       "816"
      ],
      "text/plain": [
       "[1] 816"
      ]
     },
     "metadata": {},
     "output_type": "display_data"
    },
    {
     "data": {
      "text/html": [
       "816"
      ],
      "text/latex": [
       "816"
      ],
      "text/markdown": [
       "816"
      ],
      "text/plain": [
       "[1] 816"
      ]
     },
     "metadata": {},
     "output_type": "display_data"
    }
   ],
   "source": [
    "length(df$neutralRate)\n",
    "length(df$neutral)"
   ]
  },
  {
   "cell_type": "code",
   "execution_count": 20,
   "metadata": {},
   "outputs": [
    {
     "data": {
      "text/html": [
       "<ol class=list-inline>\n",
       "\t<li>571</li>\n",
       "\t<li>3</li>\n",
       "</ol>\n"
      ],
      "text/latex": [
       "\\begin{enumerate*}\n",
       "\\item 571\n",
       "\\item 3\n",
       "\\end{enumerate*}\n"
      ],
      "text/markdown": [
       "1. 571\n",
       "2. 3\n",
       "\n",
       "\n"
      ],
      "text/plain": [
       "[1] 571   3"
      ]
     },
     "metadata": {},
     "output_type": "display_data"
    },
    {
     "data": {
      "text/html": [
       "<ol class=list-inline>\n",
       "\t<li>245</li>\n",
       "\t<li>3</li>\n",
       "</ol>\n"
      ],
      "text/latex": [
       "\\begin{enumerate*}\n",
       "\\item 245\n",
       "\\item 3\n",
       "\\end{enumerate*}\n"
      ],
      "text/markdown": [
       "1. 245\n",
       "2. 3\n",
       "\n",
       "\n"
      ],
      "text/plain": [
       "[1] 245   3"
      ]
     },
     "metadata": {},
     "output_type": "display_data"
    }
   ],
   "source": [
    "dim(X_train)\n",
    "dim(X_test)"
   ]
  },
  {
   "cell_type": "code",
   "execution_count": 21,
   "metadata": {},
   "outputs": [],
   "source": [
    "library(bartMachine)\n",
    "library(BayesTree)"
   ]
  },
  {
   "cell_type": "code",
   "execution_count": 26,
   "metadata": {},
   "outputs": [],
   "source": [
    "get_accuracy <- function(y_hat, y_test, error){\n",
    "    diff <- abs(y_hat - y_test)\n",
    "    aux <- diff < (error*y_hat/100)\n",
    "    acc <- sum(aux)/length(y_test)\n",
    "    return (acc)\n",
    "}"
   ]
  },
  {
   "cell_type": "code",
   "execution_count": 64,
   "metadata": {},
   "outputs": [
    {
     "name": "stdout",
     "output_type": "stream",
     "text": [
      "\n",
      "\n",
      "Running BART with numeric y\n",
      "\n",
      "number of trees: 200\n",
      "Prior:\n",
      "\tk: 2.000000\n",
      "\tdegrees of freedom in sigma prior: 3\n",
      "\tquantile in sigma prior: 0.900000\n",
      "\tpower and base for tree prior: 2.000000 0.950000\n",
      "\tuse quantiles for rule cut points: 0\n",
      "data:\n",
      "\tnumber of training observations: 571\n",
      "\tnumber of test observations: 245\n",
      "\tnumber of explanatory variables: 3\n",
      "\n",
      "\n",
      "Cutoff rules c in x<=c vs x>c\n",
      "Number of cutoffs: (var: number of possible c):\n",
      "(1: 100) (2: 100) (3: 100) \n",
      "\n",
      "\n",
      "Running mcmc loop:\n",
      "iteration: 100 (of 1100)\n",
      "iteration: 200 (of 1100)\n",
      "iteration: 300 (of 1100)\n",
      "iteration: 400 (of 1100)\n",
      "iteration: 500 (of 1100)\n",
      "iteration: 600 (of 1100)\n",
      "iteration: 700 (of 1100)\n",
      "iteration: 800 (of 1100)\n",
      "iteration: 900 (of 1100)\n",
      "iteration: 1000 (of 1100)\n",
      "iteration: 1100 (of 1100)\n",
      "time for loop: 35\n",
      "\n",
      "Tree sizes, last iteration:\n",
      "3 3 2 2 2 2 2 3 2 2 2 2 3 3 2 3 3 2 2 3 \n",
      "2 2 2 2 3 3 2 2 4 2 2 2 2 3 2 2 3 2 2 3 \n",
      "2 1 2 2 2 2 2 3 2 4 2 2 2 3 2 2 2 2 1 2 \n",
      "2 2 4 3 2 3 2 2 2 2 3 2 3 2 2 2 3 3 2 3 \n",
      "1 2 2 3 2 4 5 1 2 2 3 2 2 2 3 2 2 2 4 2 \n",
      "2 2 3 3 2 2 2 3 3 2 2 1 2 2 2 4 2 3 3 2 \n",
      "3 3 3 2 2 1 2 3 4 3 3 3 2 2 2 2 2 2 2 2 \n",
      "2 2 4 2 4 2 2 2 2 2 2 6 5 2 2 1 2 2 1 3 \n",
      "2 3 2 2 2 2 2 2 2 3 5 1 2 3 2 2 2 2 2 2 \n",
      "3 4 2 2 2 4 2 2 4 2 2 2 2 2 2 1 2 2 3 3 \n",
      "Variable Usage, last iteration (var:count):\n",
      "(1: 105) (2: 81) (3: 86) \n",
      "DONE BART 11-2-2014\n",
      "\n"
     ]
    }
   ],
   "source": [
    "b <- bart(x.train = X_train, y.train = y_train, x.test = X_test)"
   ]
  },
  {
   "cell_type": "code",
   "execution_count": 24,
   "metadata": {},
   "outputs": [
    {
     "data": {
      "text/html": [
       "20.3822193461856"
      ],
      "text/latex": [
       "20.3822193461856"
      ],
      "text/markdown": [
       "20.3822193461856"
      ],
      "text/plain": [
       "[1] 20.38222"
      ]
     },
     "metadata": {},
     "output_type": "display_data"
    }
   ],
   "source": [
    "SSE_200 <- sum((b$yhat.test.mean-y_test)^2)\n",
    "SSE_200"
   ]
  },
  {
   "cell_type": "code",
   "execution_count": 136,
   "metadata": {},
   "outputs": [
    {
     "data": {
      "text/html": [
       "<ol class=list-inline>\n",
       "\t<li>4.4</li>\n",
       "\t<li>4.3</li>\n",
       "\t<li>4.4</li>\n",
       "\t<li>4.4</li>\n",
       "\t<li>4.2</li>\n",
       "\t<li>4.2</li>\n",
       "\t<li>4.1</li>\n",
       "\t<li>4.2</li>\n",
       "\t<li>4.4</li>\n",
       "\t<li>4.2</li>\n",
       "</ol>\n"
      ],
      "text/latex": [
       "\\begin{enumerate*}\n",
       "\\item 4.4\n",
       "\\item 4.3\n",
       "\\item 4.4\n",
       "\\item 4.4\n",
       "\\item 4.2\n",
       "\\item 4.2\n",
       "\\item 4.1\n",
       "\\item 4.2\n",
       "\\item 4.4\n",
       "\\item 4.2\n",
       "\\end{enumerate*}\n"
      ],
      "text/markdown": [
       "1. 4.4\n",
       "2. 4.3\n",
       "3. 4.4\n",
       "4. 4.4\n",
       "5. 4.2\n",
       "6. 4.2\n",
       "7. 4.1\n",
       "8. 4.2\n",
       "9. 4.4\n",
       "10. 4.2\n",
       "\n",
       "\n"
      ],
      "text/plain": [
       " [1] 4.4 4.3 4.4 4.4 4.2 4.2 4.1 4.2 4.4 4.2"
      ]
     },
     "metadata": {},
     "output_type": "display_data"
    },
    {
     "data": {
      "text/html": [
       "<ol class=list-inline>\n",
       "\t<li>4.5</li>\n",
       "\t<li>4.7</li>\n",
       "\t<li>4.9</li>\n",
       "\t<li>4.6</li>\n",
       "\t<li>4.3</li>\n",
       "\t<li>4</li>\n",
       "\t<li>4.4</li>\n",
       "\t<li>4.2</li>\n",
       "\t<li>4.5</li>\n",
       "\t<li>4.3</li>\n",
       "</ol>\n"
      ],
      "text/latex": [
       "\\begin{enumerate*}\n",
       "\\item 4.5\n",
       "\\item 4.7\n",
       "\\item 4.9\n",
       "\\item 4.6\n",
       "\\item 4.3\n",
       "\\item 4\n",
       "\\item 4.4\n",
       "\\item 4.2\n",
       "\\item 4.5\n",
       "\\item 4.3\n",
       "\\end{enumerate*}\n"
      ],
      "text/markdown": [
       "1. 4.5\n",
       "2. 4.7\n",
       "3. 4.9\n",
       "4. 4.6\n",
       "5. 4.3\n",
       "6. 4\n",
       "7. 4.4\n",
       "8. 4.2\n",
       "9. 4.5\n",
       "10. 4.3\n",
       "\n",
       "\n"
      ],
      "text/plain": [
       " [1] 4.5 4.7 4.9 4.6 4.3 4.0 4.4 4.2 4.5 4.3"
      ]
     },
     "metadata": {},
     "output_type": "display_data"
    }
   ],
   "source": [
    "round(b$yhat.test.mean[1:10],1)\n",
    "y_test[1:10]"
   ]
  },
  {
   "cell_type": "code",
   "execution_count": 66,
   "metadata": {},
   "outputs": [
    {
     "data": {
      "text/html": [
       "0.783673469387755"
      ],
      "text/latex": [
       "0.783673469387755"
      ],
      "text/markdown": [
       "0.783673469387755"
      ],
      "text/plain": [
       "[1] 0.7836735"
      ]
     },
     "metadata": {},
     "output_type": "display_data"
    },
    {
     "data": {
      "text/html": [
       "0.661224489795918"
      ],
      "text/latex": [
       "0.661224489795918"
      ],
      "text/markdown": [
       "0.661224489795918"
      ],
      "text/plain": [
       "[1] 0.6612245"
      ]
     },
     "metadata": {},
     "output_type": "display_data"
    },
    {
     "data": {
      "text/html": [
       "0.644897959183673"
      ],
      "text/latex": [
       "0.644897959183673"
      ],
      "text/markdown": [
       "0.644897959183673"
      ],
      "text/plain": [
       "[1] 0.644898"
      ]
     },
     "metadata": {},
     "output_type": "display_data"
    },
    {
     "data": {
      "text/html": [
       "0.604081632653061"
      ],
      "text/latex": [
       "0.604081632653061"
      ],
      "text/markdown": [
       "0.604081632653061"
      ],
      "text/plain": [
       "[1] 0.6040816"
      ]
     },
     "metadata": {},
     "output_type": "display_data"
    }
   ],
   "source": [
    "a <- get_accuracy(log(y_hat), log(y_test), 6)\n",
    "a\n",
    "0.661224489795918 # 5 variables\n",
    "0.644897959183673 # 4 variables\n",
    "0.604081632653061 # pos neg, sentiment polarity"
   ]
  },
  {
   "cell_type": "code",
   "execution_count": 39,
   "metadata": {},
   "outputs": [
    {
     "name": "stdout",
     "output_type": "stream",
     "text": [
      "bartMachine initializing with 50 trees...\n",
      "bartMachine vars checked...\n",
      "bartMachine java init...\n",
      "bartMachine factors created...\n",
      "bartMachine before preprocess...\n",
      "bartMachine after preprocess... 4 total features...\n",
      "bartMachine sigsq estimated...\n",
      "bartMachine training data finalized...\n",
      "Now building bartMachine for regression ...\n",
      "evaluating in sample data...done\n"
     ]
    }
   ],
   "source": [
    "bart_object_default <- bartMachine(X_train, y_train)"
   ]
  },
  {
   "cell_type": "code",
   "execution_count": 26,
   "metadata": {},
   "outputs": [
    {
     "data": {
      "image/png": "[encoded data removed]",
      "text/plain": [
       "Plot with title \"Tree Depth by MCMC Iteration After Burn-in\""
      ]
     },
     "metadata": {},
     "output_type": "display_data"
    }
   ],
   "source": [
    "plot_convergence_diagnostics(bart_object_default)"
   ]
  },
  {
   "cell_type": "code",
   "execution_count": 61,
   "metadata": {},
   "outputs": [],
   "source": [
    "yhat <- predict(bart_object_default,X_test)"
   ]
  },
  {
   "cell_type": "code",
   "execution_count": 62,
   "metadata": {},
   "outputs": [],
   "source": [
    "yhat <- round(yhat,1)"
   ]
  },
  {
   "cell_type": "code",
   "execution_count": 49,
   "metadata": {},
   "outputs": [
    {
     "name": "stdout",
     "output_type": "stream",
     "text": [
      "bartMachine initializing with 30 trees...\n",
      "bartMachine vars checked...\n",
      "bartMachine java init...\n",
      "bartMachine factors created...\n",
      "bartMachine before preprocess...\n",
      "bartMachine after preprocess... 5 total features...\n",
      "bartMachine sigsq estimated...\n",
      "bartMachine training data finalized...\n",
      "Now building bartMachine for regression ...Missing data feature ON. \n",
      "evaluating in sample data...done\n"
     ]
    }
   ],
   "source": [
    "bart_object<- bartMachine(X_train, log(y_train), num_trees = 30, q = 0.90, nu = 3, use_missing_data = TRUE, k = 5)\n",
    "#bart_object<- bartMachine(X_train, y_train)\n",
    "#k: 5 nu, q: 3, 0.9 m: 200 "
   ]
  },
  {
   "cell_type": "code",
   "execution_count": 50,
   "metadata": {},
   "outputs": [
    {
     "data": {
      "image/png": "[encoded data removed]",
      "text/plain": [
       "Plot with title \"Tree Depth by MCMC Iteration After Burn-in\""
      ]
     },
     "metadata": {},
     "output_type": "display_data"
    }
   ],
   "source": [
    "plot_convergence_diagnostics(bart_object)"
   ]
  },
  {
   "cell_type": "code",
   "execution_count": 221,
   "metadata": {},
   "outputs": [
    {
     "name": "stdout",
     "output_type": "stream",
     "text": [
      ".....\n"
     ]
    },
    {
     "data": {
      "image/png": "[encoded data removed]",
      "text/plain": [
       "plot without title"
      ]
     },
     "metadata": {},
     "output_type": "display_data"
    }
   ],
   "source": [
    "investigate_var_importance(bart_object)"
   ]
  },
  {
   "cell_type": "code",
   "execution_count": 37,
   "metadata": {},
   "outputs": [],
   "source": [
    "yhat <- predict(bart_object, X_test)"
   ]
  },
  {
   "cell_type": "code",
   "execution_count": 206,
   "metadata": {},
   "outputs": [
    {
     "data": {
      "text/html": [
       "<ol class=list-inline>\n",
       "\t<li>4.4</li>\n",
       "\t<li>4.3</li>\n",
       "\t<li>4.4</li>\n",
       "\t<li>4.4</li>\n",
       "\t<li>4.2</li>\n",
       "\t<li>4.3</li>\n",
       "\t<li>4.1</li>\n",
       "\t<li>4.2</li>\n",
       "\t<li>4.3</li>\n",
       "\t<li>4.2</li>\n",
       "</ol>\n"
      ],
      "text/latex": [
       "\\begin{enumerate*}\n",
       "\\item 4.4\n",
       "\\item 4.3\n",
       "\\item 4.4\n",
       "\\item 4.4\n",
       "\\item 4.2\n",
       "\\item 4.3\n",
       "\\item 4.1\n",
       "\\item 4.2\n",
       "\\item 4.3\n",
       "\\item 4.2\n",
       "\\end{enumerate*}\n"
      ],
      "text/markdown": [
       "1. 4.4\n",
       "2. 4.3\n",
       "3. 4.4\n",
       "4. 4.4\n",
       "5. 4.2\n",
       "6. 4.3\n",
       "7. 4.1\n",
       "8. 4.2\n",
       "9. 4.3\n",
       "10. 4.2\n",
       "\n",
       "\n"
      ],
      "text/plain": [
       " [1] 4.4 4.3 4.4 4.4 4.2 4.3 4.1 4.2 4.3 4.2"
      ]
     },
     "metadata": {},
     "output_type": "display_data"
    },
    {
     "data": {
      "text/html": [
       "<ol class=list-inline>\n",
       "\t<li>4.5</li>\n",
       "\t<li>4.7</li>\n",
       "\t<li>4.9</li>\n",
       "\t<li>4.6</li>\n",
       "\t<li>4.3</li>\n",
       "\t<li>4</li>\n",
       "\t<li>4.4</li>\n",
       "\t<li>4.2</li>\n",
       "\t<li>4.5</li>\n",
       "\t<li>4.3</li>\n",
       "</ol>\n"
      ],
      "text/latex": [
       "\\begin{enumerate*}\n",
       "\\item 4.5\n",
       "\\item 4.7\n",
       "\\item 4.9\n",
       "\\item 4.6\n",
       "\\item 4.3\n",
       "\\item 4\n",
       "\\item 4.4\n",
       "\\item 4.2\n",
       "\\item 4.5\n",
       "\\item 4.3\n",
       "\\end{enumerate*}\n"
      ],
      "text/markdown": [
       "1. 4.5\n",
       "2. 4.7\n",
       "3. 4.9\n",
       "4. 4.6\n",
       "5. 4.3\n",
       "6. 4\n",
       "7. 4.4\n",
       "8. 4.2\n",
       "9. 4.5\n",
       "10. 4.3\n",
       "\n",
       "\n"
      ],
      "text/plain": [
       " [1] 4.5 4.7 4.9 4.6 4.3 4.0 4.4 4.2 4.5 4.3"
      ]
     },
     "metadata": {},
     "output_type": "display_data"
    }
   ],
   "source": [
    "round(yhat[0:10],1)\n",
    "y_test[0:10]"
   ]
  },
  {
   "cell_type": "code",
   "execution_count": 42,
   "metadata": {},
   "outputs": [
    {
     "data": {
      "text/html": [
       "1.22130059675167"
      ],
      "text/latex": [
       "1.22130059675167"
      ],
      "text/markdown": [
       "1.22130059675167"
      ],
      "text/plain": [
       "[1] 1.221301"
      ]
     },
     "metadata": {},
     "output_type": "display_data"
    }
   ],
   "source": [
    "SSE_200 <- sum((yhat-log(y_test))^2)\n",
    "SSE_200"
   ]
  },
  {
   "cell_type": "code",
   "execution_count": 208,
   "metadata": {},
   "outputs": [
    {
     "data": {
      "text/html": [
       "0.844897959183673"
      ],
      "text/latex": [
       "0.844897959183673"
      ],
      "text/markdown": [
       "0.844897959183673"
      ],
      "text/plain": [
       "[1] 0.844898"
      ]
     },
     "metadata": {},
     "output_type": "display_data"
    },
    {
     "data": {
      "text/html": [
       "0.640816326530612"
      ],
      "text/latex": [
       "0.640816326530612"
      ],
      "text/markdown": [
       "0.640816326530612"
      ],
      "text/plain": [
       "[1] 0.6408163"
      ]
     },
     "metadata": {},
     "output_type": "display_data"
    },
    {
     "data": {
      "text/html": [
       "0.63265306122449"
      ],
      "text/latex": [
       "0.63265306122449"
      ],
      "text/markdown": [
       "0.63265306122449"
      ],
      "text/plain": [
       "[1] 0.6326531"
      ]
     },
     "metadata": {},
     "output_type": "display_data"
    },
    {
     "data": {
      "text/html": [
       "0.616326530612245"
      ],
      "text/latex": [
       "0.616326530612245"
      ],
      "text/markdown": [
       "0.616326530612245"
      ],
      "text/plain": [
       "[1] 0.6163265"
      ]
     },
     "metadata": {},
     "output_type": "display_data"
    }
   ],
   "source": [
    "y_hat <- round(yhat,1)\n",
    "a <- get_accuracy(log(y_hat), log(y_test), 5)\n",
    "a\n",
    "0.640816326530612 # 5 variables\n",
    "0.63265306122449 # 4 vars\n",
    "0.616326530612245 # 3 vars pos, neg, sent polarity"
   ]
  },
  {
   "cell_type": "code",
   "execution_count": 143,
   "metadata": {},
   "outputs": [
    {
     "name": "stdout",
     "output_type": "stream",
     "text": [
      "  bartMachine CV try: k: 2 nu, q: 3, 0.9 m: 50 \n",
      ".....\n",
      "  bartMachine CV try: k: 2 nu, q: 3, 0.9 m: 200 \n",
      ".....\n",
      "  bartMachine CV try: k: 2 nu, q: 3, 0.99 m: 50 \n",
      ".....\n",
      "  bartMachine CV try: k: 2 nu, q: 3, 0.99 m: 200 \n",
      ".....\n",
      "  bartMachine CV try: k: 2 nu, q: 10, 0.75 m: 50 \n",
      ".....\n",
      "  bartMachine CV try: k: 2 nu, q: 10, 0.75 m: 200 \n",
      ".....\n",
      "  bartMachine CV try: k: 3 nu, q: 3, 0.9 m: 50 \n",
      ".....\n",
      "  bartMachine CV try: k: 3 nu, q: 3, 0.9 m: 200 \n",
      ".....\n",
      "  bartMachine CV try: k: 3 nu, q: 3, 0.99 m: 50 \n",
      ".....\n",
      "  bartMachine CV try: k: 3 nu, q: 3, 0.99 m: 200 \n",
      ".....\n",
      "  bartMachine CV try: k: 3 nu, q: 10, 0.75 m: 50 \n",
      ".....\n",
      "  bartMachine CV try: k: 3 nu, q: 10, 0.75 m: 200 \n",
      ".....\n",
      "  bartMachine CV try: k: 5 nu, q: 3, 0.9 m: 50 \n",
      ".....\n",
      "  bartMachine CV try: k: 5 nu, q: 3, 0.9 m: 200 \n",
      ".....\n",
      "  bartMachine CV try: k: 5 nu, q: 3, 0.99 m: 50 \n",
      ".....\n",
      "  bartMachine CV try: k: 5 nu, q: 3, 0.99 m: 200 \n",
      ".....\n",
      "  bartMachine CV try: k: 5 nu, q: 10, 0.75 m: 50 \n",
      ".....\n",
      "  bartMachine CV try: k: 5 nu, q: 10, 0.75 m: 200 \n",
      ".....\n",
      "  bartMachine CV win: k: 5 nu, q: 3, 0.9 m: 200 \n",
      "bartMachine initializing with 200 trees...\n",
      "bartMachine vars checked...\n",
      "bartMachine java init...\n",
      "bartMachine factors created...\n",
      "bartMachine before preprocess...\n",
      "bartMachine after preprocess... 4 total features...\n",
      "bartMachine sigsq estimated...\n",
      "bartMachine training data finalized...\n",
      "Now building bartMachine for regression ...\n",
      "evaluating in sample data...done\n"
     ]
    }
   ],
   "source": [
    "bart_object2 <- bartMachineCV(X_train, y_train)"
   ]
  },
  {
   "cell_type": "code",
   "execution_count": 194,
   "metadata": {},
   "outputs": [
    {
     "data": {
      "text/html": [
       "<ol class=list-inline>\n",
       "\t<li>4.4</li>\n",
       "\t<li>4.3</li>\n",
       "\t<li>4.4</li>\n",
       "\t<li>4.4</li>\n",
       "\t<li>4.1</li>\n",
       "\t<li>4.3</li>\n",
       "\t<li>4.1</li>\n",
       "\t<li>4.2</li>\n",
       "\t<li>4.3</li>\n",
       "\t<li>4.2</li>\n",
       "</ol>\n"
      ],
      "text/latex": [
       "\\begin{enumerate*}\n",
       "\\item 4.4\n",
       "\\item 4.3\n",
       "\\item 4.4\n",
       "\\item 4.4\n",
       "\\item 4.1\n",
       "\\item 4.3\n",
       "\\item 4.1\n",
       "\\item 4.2\n",
       "\\item 4.3\n",
       "\\item 4.2\n",
       "\\end{enumerate*}\n"
      ],
      "text/markdown": [
       "1. 4.4\n",
       "2. 4.3\n",
       "3. 4.4\n",
       "4. 4.4\n",
       "5. 4.1\n",
       "6. 4.3\n",
       "7. 4.1\n",
       "8. 4.2\n",
       "9. 4.3\n",
       "10. 4.2\n",
       "\n",
       "\n"
      ],
      "text/plain": [
       " [1] 4.4 4.3 4.4 4.4 4.1 4.3 4.1 4.2 4.3 4.2"
      ]
     },
     "metadata": {},
     "output_type": "display_data"
    },
    {
     "data": {
      "text/html": [
       "<ol class=list-inline>\n",
       "\t<li>4.5</li>\n",
       "\t<li>4.7</li>\n",
       "\t<li>4.9</li>\n",
       "\t<li>4.6</li>\n",
       "\t<li>4.3</li>\n",
       "\t<li>4</li>\n",
       "\t<li>4.4</li>\n",
       "\t<li>4.2</li>\n",
       "\t<li>4.5</li>\n",
       "\t<li>4.3</li>\n",
       "</ol>\n"
      ],
      "text/latex": [
       "\\begin{enumerate*}\n",
       "\\item 4.5\n",
       "\\item 4.7\n",
       "\\item 4.9\n",
       "\\item 4.6\n",
       "\\item 4.3\n",
       "\\item 4\n",
       "\\item 4.4\n",
       "\\item 4.2\n",
       "\\item 4.5\n",
       "\\item 4.3\n",
       "\\end{enumerate*}\n"
      ],
      "text/markdown": [
       "1. 4.5\n",
       "2. 4.7\n",
       "3. 4.9\n",
       "4. 4.6\n",
       "5. 4.3\n",
       "6. 4\n",
       "7. 4.4\n",
       "8. 4.2\n",
       "9. 4.5\n",
       "10. 4.3\n",
       "\n",
       "\n"
      ],
      "text/plain": [
       " [1] 4.5 4.7 4.9 4.6 4.3 4.0 4.4 4.2 4.5 4.3"
      ]
     },
     "metadata": {},
     "output_type": "display_data"
    }
   ],
   "source": [
    "yhat <- predict(bart_object2, X_test)\n",
    "round(yhat[0:10],1)\n",
    "y_test[0:10]"
   ]
  },
  {
   "cell_type": "code",
   "execution_count": 195,
   "metadata": {},
   "outputs": [
    {
     "data": {
      "text/html": [
       "0.840816326530612"
      ],
      "text/latex": [
       "0.840816326530612"
      ],
      "text/markdown": [
       "0.840816326530612"
      ],
      "text/plain": [
       "[1] 0.8408163"
      ]
     },
     "metadata": {},
     "output_type": "display_data"
    }
   ],
   "source": [
    "y_hat <- round(yhat,1)\n",
    "a <- get_accuracy(log(y_hat), log(y_test), 5)\n",
    "a"
   ]
  },
  {
   "cell_type": "code",
   "execution_count": 114,
   "metadata": {},
   "outputs": [
    {
     "data": {
      "text/html": [
       "0.820408163265306"
      ],
      "text/latex": [
       "0.820408163265306"
      ],
      "text/markdown": [
       "0.820408163265306"
      ],
      "text/plain": [
       "[1] 0.8204082"
      ]
     },
     "metadata": {},
     "output_type": "display_data"
    }
   ],
   "source": [
    "0.820408163265306 # 3 variables"
   ]
  },
  {
   "cell_type": "code",
   "execution_count": 116,
   "metadata": {},
   "outputs": [
    {
     "data": {
      "text/html": [
       "0.775510204081633"
      ],
      "text/latex": [
       "0.775510204081633"
      ],
      "text/markdown": [
       "0.775510204081633"
      ],
      "text/plain": [
       "[1] 0.7755102"
      ]
     },
     "metadata": {},
     "output_type": "display_data"
    }
   ],
   "source": [
    "0.775510204081633 # 5 variables"
   ]
  },
  {
   "cell_type": "code",
   "execution_count": 153,
   "metadata": {},
   "outputs": [
    {
     "data": {
      "text/html": [
       "0.771428571428571"
      ],
      "text/latex": [
       "0.771428571428571"
      ],
      "text/markdown": [
       "0.771428571428571"
      ],
      "text/plain": [
       "[1] 0.7714286"
      ]
     },
     "metadata": {},
     "output_type": "display_data"
    }
   ],
   "source": [
    "0.771428571428571 # 4 variables"
   ]
  },
  {
   "cell_type": "code",
   "execution_count": 48,
   "metadata": {},
   "outputs": [
    {
     "name": "stdout",
     "output_type": "stream",
     "text": [
      "num_trees = ..5..5..5..5..5..5..5..5..5..5..5..5..5..5..5..5..5..5..5..5..10..10..10..10..10..10..10..10..10..10..10..10..10..10..10..10..10..10..10..10..20..20..20..20..20..20..20..20..20..20..20..20..20..20..20..20..20..20..20..20..30..30..30..30..30..30..30..30..30..30..30..30..30..30..30..30..30..30..30..30..40..40..40..40..40..40..40..40..40..40..40..40..40..40..40..40..40..40..40..40..50..50..50..50..50..50..50..50..50..50..50..50..50..50..50..50..50..50..50..50..100..100..100..100..100..100..100..100..100..100..100..100..100..100..100..100..100..100..100..100..150..150..150..150..150..150..150..150..150..150..150..150..150..150..150..150..150..150..150..150..200..200..200..200..200..200..200..200..200..200..200..200..200..200..200..200..200..200..200..200\n"
     ]
    },
    {
     "data": {
      "image/png": "[encoded data removed]",
      "text/plain": [
       "Plot with title \"Out-Of-Sample RMSE by Number of Trees\""
      ]
     },
     "metadata": {},
     "output_type": "display_data"
    }
   ],
   "source": [
    "rmse_by_num_trees(bart_object, num_replicates = 20)"
   ]
  }
 ],
 "metadata": {
  "kernelspec": {
   "display_name": "R",
   "language": "R",
   "name": "ir"
  },
  "language_info": {
   "codemirror_mode": "r",
   "file_extension": ".r",
   "mimetype": "text/x-r-source",
   "name": "R",
   "pygments_lexer": "r",
   "version": "3.5.2"
  }
 },
 "nbformat": 4,
 "nbformat_minor": 2
}
